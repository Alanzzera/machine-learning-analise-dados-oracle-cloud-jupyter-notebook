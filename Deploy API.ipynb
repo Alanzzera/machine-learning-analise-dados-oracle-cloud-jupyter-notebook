{
 "cells": [
  {
   "cell_type": "markdown",
   "id": "b9872c6f-1ce4-43ca-b310-f0d875c2db0a",
   "metadata": {},
   "source": [
    "### OCI Data Science - Useful Tips\n",
    "<details>\n",
    "<summary><font size=\"2\">Check for Public Internet Access</font></summary>\n",
    "\n",
    "```python\n",
    "import requests\n",
    "response = requests.get(\"https://oracle.com\")\n",
    "assert response.status_code==200, \"Internet connection failed\"\n",
    "```\n",
    "</details>\n",
    "<details>\n",
    "<summary><font size=\"2\">Helpful Documentation </font></summary>\n",
    "<ul><li><a href=\"https://docs.cloud.oracle.com/en-us/iaas/data-science/using/data-science.htm\">Data Science Service Documentation</a></li>\n",
    "<li><a href=\"https://docs.cloud.oracle.com/iaas/tools/ads-sdk/latest/index.html\">ADS documentation</a></li>\n",
    "</ul>\n",
    "</details>\n",
    "<details>\n",
    "<summary><font size=\"2\">Typical Cell Imports and Settings for ADS</font></summary>\n",
    "\n",
    "```python\n",
    "%load_ext autoreload\n",
    "%autoreload 2\n",
    "%matplotlib inline\n",
    "\n",
    "import warnings\n",
    "warnings.filterwarnings('ignore')\n",
    "\n",
    "import logging\n",
    "logging.basicConfig(format='%(levelname)s:%(message)s', level=logging.ERROR)\n",
    "\n",
    "import ads\n",
    "from ads.dataset.factory import DatasetFactory\n",
    "from ads.automl.provider import OracleAutoMLProvider\n",
    "from ads.automl.driver import AutoML\n",
    "from ads.evaluations.evaluator import ADSEvaluator\n",
    "from ads.common.data import ADSData\n",
    "from ads.explanations.explainer import ADSExplainer\n",
    "from ads.explanations.mlx_global_explainer import MLXGlobalExplainer\n",
    "from ads.explanations.mlx_local_explainer import MLXLocalExplainer\n",
    "from ads.catalog.model import ModelCatalog\n",
    "from ads.common.model_artifact import ModelArtifact\n",
    "```\n",
    "</details>\n",
    "<details>\n",
    "<summary><font size=\"2\">Useful Environment Variables</font></summary>\n",
    "\n",
    "```python\n",
    "import os\n",
    "print(os.environ[\"NB_SESSION_COMPARTMENT_OCID\"])\n",
    "print(os.environ[\"PROJECT_OCID\"])\n",
    "print(os.environ[\"USER_OCID\"])\n",
    "print(os.environ[\"TENANCY_OCID\"])\n",
    "print(os.environ[\"NB_REGION\"])\n",
    "```\n",
    "</details>"
   ]
  },
  {
   "cell_type": "code",
   "execution_count": 51,
   "id": "b37e8e60-3e9c-4514-aaca-507b0026e1e4",
   "metadata": {
    "tags": []
   },
   "outputs": [],
   "source": [
    "import os\n",
    "from ads.catalog.model import ModelCatalog\n",
    "from ads.model.deployment import ModelDeployer"
   ]
  },
  {
   "cell_type": "code",
   "execution_count": 52,
   "id": "7dc8df54-d196-4f66-bcbe-4e8d370a310e",
   "metadata": {
    "tags": []
   },
   "outputs": [],
   "source": [
    "mc = ModelCatalog()"
   ]
  },
  {
   "cell_type": "code",
   "execution_count": 58,
   "id": "98c44151-594d-42ad-85a9-040651c822e3",
   "metadata": {
    "tags": []
   },
   "outputs": [],
   "source": [
    "mc_list = mc.list_models()"
   ]
  },
  {
   "cell_type": "code",
   "execution_count": 59,
   "id": "547b21b8-a7d2-4143-a015-7b6dc3f8439d",
   "metadata": {
    "tags": []
   },
   "outputs": [],
   "source": [
    "model_id = mc_list[0].id"
   ]
  },
  {
   "cell_type": "code",
   "execution_count": 60,
   "id": "cf72c8f3-6199-4059-8ce2-c290767d6607",
   "metadata": {
    "tags": []
   },
   "outputs": [],
   "source": [
    "deployer = ModelDeployer()"
   ]
  },
  {
   "cell_type": "code",
   "execution_count": 65,
   "id": "ac40ff37-f257-42b2-85a1-8fa8c96996ea",
   "metadata": {
    "tags": []
   },
   "outputs": [
    {
     "name": "stdout",
     "output_type": "stream",
     "text": [
      "ERROR:ads:ADS Exception\n",
      "Traceback (most recent call last):\n",
      "  File \"/home/datascience/conda/generalml_p37_cpu_v1/lib/python3.7/site-packages/IPython/core/interactiveshell.py\", line 3457, in run_code\n",
      "    exec(code_obj, self.user_global_ns, self.user_ns)\n",
      "  File \"<ipython-input-65-7c3aca76e86f>\", line 7, in <module>\n",
      "    compartment_id=os.environ[\"TENANCY_OCID\"]\n",
      "  File \"/home/datascience/conda/generalml_p37_cpu_v1/lib/python3.7/site-packages/ads/model/deployment/model_deployer.py\", line 126, in deploy\n",
      "    wait_for_completion, max_wait_time, poll_interval\n",
      "  File \"/home/datascience/conda/generalml_p37_cpu_v1/lib/python3.7/site-packages/ads/model/deployment/model_deployment.py\", line 161, in deploy\n",
      "    self.properties.build()\n",
      "  File \"/home/datascience/conda/generalml_p37_cpu_v1/lib/python3.7/site-packages/oci/data_science/data_science_client_composite_operations.py\", line 278, in create_model_deployment_and_wait_for_state\n",
      "    operation_result = self.client.create_model_deployment(create_model_deployment_details, **operation_kwargs)\n",
      "  File \"/home/datascience/conda/generalml_p37_cpu_v1/lib/python3.7/site-packages/oci/data_science/data_science_client.py\", line 1791, in create_model_deployment\n",
      "    response_type=\"ModelDeployment\")\n",
      "  File \"/home/datascience/conda/generalml_p37_cpu_v1/lib/python3.7/site-packages/oci/base_client.py\", line 472, in call_api\n",
      "    response = self.request(request, allow_control_chars)\n",
      "  File \"/home/datascience/conda/generalml_p37_cpu_v1/lib/python3.7/site-packages/circuitbreaker.py\", line 52, in wrapper\n",
      "    return self.call(function, *args, **kwargs)\n",
      "  File \"/home/datascience/conda/generalml_p37_cpu_v1/lib/python3.7/site-packages/circuitbreaker.py\", line 67, in call\n",
      "    result = func(*args, **kwargs)\n",
      "  File \"/home/datascience/conda/generalml_p37_cpu_v1/lib/python3.7/site-packages/oci/base_client.py\", line 601, in request\n",
      "    self.raise_service_error(request, response, service_code, message)\n",
      "  File \"/home/datascience/conda/generalml_p37_cpu_v1/lib/python3.7/site-packages/oci/base_client.py\", line 763, in raise_service_error\n",
      "    original_request=request)\n",
      "oci.exceptions.ServiceError: {'opc-request-id': '962A84E7F95E482F85CD59811DA425EE/580F49CFF8AAE3FB49834CE1BA5093DC/1C50E7AC935BC5A29B0DF4C8840A0609', 'code': 'MissingParameter', 'message': 'modelDeploymentInstanceShapeConfigDetails is required', 'status': 400}\n"
     ]
    },
    {
     "name": "stderr",
     "output_type": "stream",
     "text": [
      "ServiceError: {'opc-request-id': '962A84E7F95E482F85CD59811DA425EE/580F49CFF8AAE3FB49834CE1BA5093DC/1C50E7AC935BC5A29B0DF4C8840A0609', 'code': 'MissingParameter', 'message': 'modelDeploymentInstanceShapeConfigDetails is required', 'status': 400}"
     ]
    }
   ],
   "source": [
    "deployer.deploy(\n",
    "    model_id=model_id,\n",
    "    display_name=\"API do Modelo Classificação DAC\",\n",
    "    instance_shape=\"VM.Standard.E4.Flex\",\n",
    "    instance_count=1,\n",
    "    project_id=os.environ[\"PROJECT_OCID\"],\n",
    "    compartment_id=os.environ[\"TENANCY_OCID\"]\n",
    ")"
   ]
  }
 ],
 "metadata": {
  "kernelspec": {
   "display_name": "Python [conda env:generalml_p37_cpu_v1]",
   "language": "python",
   "name": "conda-env-generalml_p37_cpu_v1-py"
  },
  "language_info": {
   "codemirror_mode": {
    "name": "ipython",
    "version": 3
   },
   "file_extension": ".py",
   "mimetype": "text/x-python",
   "name": "python",
   "nbconvert_exporter": "python",
   "pygments_lexer": "ipython3",
   "version": "3.7.12"
  }
 },
 "nbformat": 4,
 "nbformat_minor": 5
}
