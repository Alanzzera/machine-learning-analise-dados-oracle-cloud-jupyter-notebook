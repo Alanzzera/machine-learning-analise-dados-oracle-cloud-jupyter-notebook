{
 "cells": [
  {
   "cell_type": "markdown",
   "id": "22c41d72-2bef-4c27-ac70-5accca564100",
   "metadata": {
    "tags": []
   },
   "source": [
    "### OCI Data Science - Useful Tips\n",
    "<details>\n",
    "<summary><font size=\"2\">Check for Public Internet Access</font></summary>\n",
    "\n",
    "```python\n",
    "import requests\n",
    "response = requests.get(\"https://oracle.com\")\n",
    "assert response.status_code==200, \"Internet connection failed\"\n",
    "```\n",
    "</details>\n",
    "<details>\n",
    "<summary><font size=\"2\">Helpful Documentation </font></summary>\n",
    "<ul><li><a href=\"https://docs.cloud.oracle.com/en-us/iaas/data-science/using/data-science.htm\">Data Science Service Documentation</a></li>\n",
    "<li><a href=\"https://docs.cloud.oracle.com/iaas/tools/ads-sdk/latest/index.html\">ADS documentation</a></li>\n",
    "</ul>\n",
    "</details>\n",
    "<details>\n",
    "<summary><font size=\"2\">Typical Cell Imports and Settings for ADS</font></summary>\n",
    "\n",
    "```python\n",
    "%load_ext autoreload\n",
    "%autoreload 2\n",
    "%matplotlib inline\n",
    "\n",
    "import warnings\n",
    "warnings.filterwarnings('ignore')\n",
    "\n",
    "import logging\n",
    "logging.basicConfig(format='%(levelname)s:%(message)s', level=logging.ERROR)\n",
    "\n",
    "import ads\n",
    "from ads.dataset.factory import DatasetFactory\n",
    "from ads.automl.provider import OracleAutoMLProvider\n",
    "from ads.automl.driver import AutoML\n",
    "from ads.evaluations.evaluator import ADSEvaluator\n",
    "from ads.common.data import ADSData\n",
    "from ads.explanations.explainer import ADSExplainer\n",
    "from ads.explanations.mlx_global_explainer import MLXGlobalExplainer\n",
    "from ads.explanations.mlx_local_explainer import MLXLocalExplainer\n",
    "from ads.catalog.model import ModelCatalog\n",
    "from ads.common.model_artifact import ModelArtifact\n",
    "```\n",
    "</details>\n",
    "<details>\n",
    "<summary><font size=\"2\">Useful Environment Variables</font></summary>\n",
    "\n",
    "```python\n",
    "import os\n",
    "print(os.environ[\"NB_SESSION_COMPARTMENT_OCID\"])\n",
    "print(os.environ[\"PROJECT_OCID\"])\n",
    "print(os.environ[\"USER_OCID\"])\n",
    "print(os.environ[\"TENANCY_OCID\"])\n",
    "print(os.environ[\"NB_REGION\"])\n",
    "```\n",
    "</details>"
   ]
  },
  {
   "cell_type": "markdown",
   "id": "dc338ed1-8ad1-49f1-9964-026b067d431d",
   "metadata": {},
   "source": [
    "Instalação do kernel = odsc conda install -s generalml_p37_cpu_v1"
   ]
  },
  {
   "cell_type": "code",
   "execution_count": 60,
   "id": "002ef4e1-64b0-4b36-af8c-f0e255e40b41",
   "metadata": {
    "tags": []
   },
   "outputs": [],
   "source": [
    "import ads\n",
    "import pandas as pd\n",
    "import numpy as np\n",
    "from ads.dataset.factory import DatasetFactory\n",
    "from sklearn.tree import DecisionTreeClassifier\n",
    "from sklearn.metrics import ConfusionMatrixDisplay\n",
    "from ads.common.data import ADSData\n",
    "from ads.automl.driver import AutoML\n",
    "from sklearn.ensemble import RandomForestClassifier\n",
    "from ads.common.model import ADSModel\n",
    "from ads.evaluations.evaluator import ADSEvaluator\n",
    "from ads.explanations.explainer import ADSExplainer"
   ]
  },
  {
   "cell_type": "code",
   "execution_count": 2,
   "id": "2666923b-9f82-445e-b7b3-bd689cd33635",
   "metadata": {
    "tags": []
   },
   "outputs": [],
   "source": [
    "np.random.seed(42)"
   ]
  },
  {
   "cell_type": "code",
   "execution_count": 3,
   "id": "33531ae2-00d5-4707-9c92-b71e2d7fd872",
   "metadata": {
    "tags": []
   },
   "outputs": [
    {
     "data": {
      "application/vnd.jupyter.widget-view+json": {
       "model_id": "",
       "version_major": 2,
       "version_minor": 0
      },
      "text/plain": [
       "loop1:   0%|          | 0/4 [00:00<?, ?it/s]"
      ]
     },
     "metadata": {},
     "output_type": "display_data"
    }
   ],
   "source": [
    "ds_tratado = DatasetFactory.open('dados_final.csv', target='TenYearCHD')"
   ]
  },
  {
   "cell_type": "code",
   "execution_count": 4,
   "id": "40b8c19f-5397-4a49-9e62-1e268933043e",
   "metadata": {
    "tags": []
   },
   "outputs": [
    {
     "data": {
      "application/vnd.jupyter.widget-view+json": {
       "model_id": "758fe758050745af8392f5d11846089b",
       "version_major": 2,
       "version_minor": 0
      },
      "text/plain": [
       "HTML(value='\\n        <style>\\n            .mostly-customized-scrollbar {\\n              display: block;\\n    …"
      ]
     },
     "metadata": {},
     "output_type": "display_data"
    },
    {
     "data": {
      "text/plain": [
       "BinaryClassificationDataset(target: TenYearCHD) 6,954 rows, 17 columns"
      ]
     },
     "execution_count": 4,
     "metadata": {},
     "output_type": "execute_result"
    }
   ],
   "source": [
    "ds_tratado"
   ]
  },
  {
   "cell_type": "code",
   "execution_count": 5,
   "id": "28b521d1-b239-4f33-8c9e-128ad6902629",
   "metadata": {
    "tags": []
   },
   "outputs": [
    {
     "data": {
      "text/plain": [
       "ads.dataset.classification_dataset.BinaryClassificationDataset"
      ]
     },
     "execution_count": 5,
     "metadata": {},
     "output_type": "execute_result"
    }
   ],
   "source": [
    "type(ds_tratado)"
   ]
  },
  {
   "cell_type": "code",
   "execution_count": 6,
   "id": "cee39673-c509-4af1-9441-aced4bd5070f",
   "metadata": {
    "tags": []
   },
   "outputs": [
    {
     "data": {
      "image/png": "[encoded data removed]",
      "text/plain": [
       "<Figure size 576x432 with 1 Axes>"
      ]
     },
     "metadata": {},
     "output_type": "display_data"
    }
   ],
   "source": [
    "ds_tratado.target.show_in_notebook()"
   ]
  },
  {
   "cell_type": "code",
   "execution_count": 7,
   "id": "7909a899-33a8-4aa1-913d-4312f9d9208e",
   "metadata": {
    "tags": []
   },
   "outputs": [],
   "source": [
    "train, test = ds_tratado.train_test_split()"
   ]
  },
  {
   "cell_type": "code",
   "execution_count": 8,
   "id": "31389fa6-8301-48ab-94a7-d79c57adf47a",
   "metadata": {
    "tags": []
   },
   "outputs": [
    {
     "data": {
      "text/plain": [
       "Train Data\n",
       "Shape of X:(6258, 16)\n",
       "Shape of y:(6258,)"
      ]
     },
     "execution_count": 8,
     "metadata": {},
     "output_type": "execute_result"
    }
   ],
   "source": [
    "train"
   ]
  },
  {
   "cell_type": "code",
   "execution_count": 9,
   "id": "bdb4dd35-be98-4bd8-90b5-e77199bdba84",
   "metadata": {
    "tags": []
   },
   "outputs": [
    {
     "data": {
      "text/plain": [
       "Test Data\n",
       "Shape of X:(696, 16)\n",
       "Shape of y:(696,)"
      ]
     },
     "execution_count": 9,
     "metadata": {},
     "output_type": "execute_result"
    }
   ],
   "source": [
    "test"
   ]
  },
  {
   "cell_type": "code",
   "execution_count": 10,
   "id": "9e84c96d-4290-496d-8252-a93bb7d6bf71",
   "metadata": {
    "tags": []
   },
   "outputs": [],
   "source": [
    "classificador_simples = DecisionTreeClassifier()"
   ]
  },
  {
   "cell_type": "code",
   "execution_count": 11,
   "id": "b422fa2f-345d-424e-91f6-be1ecdf72fa1",
   "metadata": {
    "tags": []
   },
   "outputs": [
    {
     "data": {
      "text/plain": [
       "DecisionTreeClassifier()"
      ]
     },
     "execution_count": 11,
     "metadata": {},
     "output_type": "execute_result"
    }
   ],
   "source": [
    "classificador_simples.fit(train.X, train.y)"
   ]
  },
  {
   "cell_type": "code",
   "execution_count": 12,
   "id": "dbeae20e-3d22-4937-8c72-6b3f312ed79c",
   "metadata": {
    "tags": []
   },
   "outputs": [
    {
     "data": {
      "text/plain": [
       "0.9066091954022989"
      ]
     },
     "execution_count": 12,
     "metadata": {},
     "output_type": "execute_result"
    }
   ],
   "source": [
    "classificador_simples.score(test.X, test.y)"
   ]
  },
  {
   "cell_type": "code",
   "execution_count": 13,
   "id": "7bb860f8-865e-47d6-80c5-14f6c5d8f65d",
   "metadata": {
    "tags": []
   },
   "outputs": [
    {
     "data": {
      "text/plain": [
       "<sklearn.metrics._plot.confusion_matrix.ConfusionMatrixDisplay at 0x7f5bd976c250>"
      ]
     },
     "execution_count": 13,
     "metadata": {},
     "output_type": "execute_result"
    },
    {
     "data": {
      "image/png": "[encoded data removed]",
      "text/plain": [
       "<Figure size 864x576 with 2 Axes>"
      ]
     },
     "metadata": {},
     "output_type": "display_data"
    }
   ],
   "source": [
    "ConfusionMatrixDisplay.from_estimator(classificador_simples, test.X, test.y)"
   ]
  },
  {
   "cell_type": "code",
   "execution_count": 14,
   "id": "edc43964-7947-4780-ab3a-359ef400af14",
   "metadata": {
    "tags": []
   },
   "outputs": [],
   "source": [
    "classificador_profundo = DecisionTreeClassifier(max_depth=100)"
   ]
  },
  {
   "cell_type": "code",
   "execution_count": 15,
   "id": "b2011a40-270c-40e6-b327-e2c33ac682f4",
   "metadata": {
    "tags": []
   },
   "outputs": [
    {
     "data": {
      "text/plain": [
       "DecisionTreeClassifier(max_depth=100)"
      ]
     },
     "execution_count": 15,
     "metadata": {},
     "output_type": "execute_result"
    }
   ],
   "source": [
    "classificador_profundo.fit(train.X, train.y)"
   ]
  },
  {
   "cell_type": "code",
   "execution_count": 16,
   "id": "cba34127-000e-4735-bebd-b7e8c1117193",
   "metadata": {
    "tags": []
   },
   "outputs": [
    {
     "data": {
      "text/plain": [
       "0.9123563218390804"
      ]
     },
     "execution_count": 16,
     "metadata": {},
     "output_type": "execute_result"
    }
   ],
   "source": [
    "classificador_profundo.score(test.X, test.y)"
   ]
  },
  {
   "cell_type": "code",
   "execution_count": 17,
   "id": "3da854f8-d896-461a-bc59-fa275f230b39",
   "metadata": {
    "tags": []
   },
   "outputs": [
    {
     "data": {
      "text/plain": [
       "<sklearn.metrics._plot.confusion_matrix.ConfusionMatrixDisplay at 0x7f5bf60b7150>"
      ]
     },
     "execution_count": 17,
     "metadata": {},
     "output_type": "execute_result"
    },
    {
     "data": {
      "image/png": "[encoded data removed]",
      "text/plain": [
       "<Figure size 864x576 with 2 Axes>"
      ]
     },
     "metadata": {},
     "output_type": "display_data"
    }
   ],
   "source": [
    "ConfusionMatrixDisplay.from_estimator(classificador_profundo, test.X, test.y)"
   ]
  },
  {
   "cell_type": "code",
   "execution_count": 18,
   "id": "66bc392e-4309-4aa1-9b11-4d366b14a8ba",
   "metadata": {
    "tags": []
   },
   "outputs": [
    {
     "data": {
      "text/plain": [
       "array([0.01703231, 0.17494226, 0.02715909, 0.00167663, 0.05097492,\n",
       "       0.00292333, 0.00423147, 0.00808341, 0.00101966, 0.13025182,\n",
       "       0.1391891 , 0.10983777, 0.14044096, 0.07850838, 0.10243698,\n",
       "       0.01129192])"
      ]
     },
     "execution_count": 18,
     "metadata": {},
     "output_type": "execute_result"
    }
   ],
   "source": [
    "classificador_simples.feature_importances_"
   ]
  },
  {
   "cell_type": "code",
   "execution_count": 19,
   "id": "c026b17f-7b4b-410f-a4b3-34fa1a25a3f1",
   "metadata": {
    "tags": []
   },
   "outputs": [
    {
     "data": {
      "text/plain": [
       "diabetes              0.001020\n",
       "currentSmoker         0.001677\n",
       "BPMeds                0.002923\n",
       "prevalentStroke       0.004231\n",
       "prevalentHyp          0.008083\n",
       "fumante_categorico    0.011292\n",
       "male                  0.017032\n",
       "education             0.027159\n",
       "cigsPerDay            0.050975\n",
       "heartRate             0.078508\n",
       "glucose               0.102437\n",
       "diaBP                 0.109838\n",
       "totChol               0.130252\n",
       "sysBP                 0.139189\n",
       "BMI                   0.140441\n",
       "age                   0.174942\n",
       "dtype: float64"
      ]
     },
     "execution_count": 19,
     "metadata": {},
     "output_type": "execute_result"
    }
   ],
   "source": [
    "pd.Series(data=classificador_simples.feature_importances_, index=test.X.columns).sort_values()"
   ]
  },
  {
   "cell_type": "code",
   "execution_count": 20,
   "id": "2ea874ba-aee9-4347-90f9-5c7f3160d2e6",
   "metadata": {
    "tags": []
   },
   "outputs": [],
   "source": [
    "test.X.drop('diabetes', axis=1, inplace=True)"
   ]
  },
  {
   "cell_type": "code",
   "execution_count": 21,
   "id": "c31e6d88-26e0-4ee2-ac99-2ff7d8935942",
   "metadata": {
    "tags": []
   },
   "outputs": [],
   "source": [
    "train.X.drop('diabetes', axis=1, inplace=True)"
   ]
  },
  {
   "cell_type": "code",
   "execution_count": 22,
   "id": "4aac3cc5-7794-4ea1-820b-48fbcae546e1",
   "metadata": {
    "tags": []
   },
   "outputs": [],
   "source": [
    "classificador_simples = DecisionTreeClassifier()"
   ]
  },
  {
   "cell_type": "code",
   "execution_count": 23,
   "id": "bca1daa9-bd3c-4133-be61-097efb86ad4f",
   "metadata": {
    "tags": []
   },
   "outputs": [
    {
     "data": {
      "text/plain": [
       "DecisionTreeClassifier()"
      ]
     },
     "execution_count": 23,
     "metadata": {},
     "output_type": "execute_result"
    }
   ],
   "source": [
    "classificador_simples.fit(train.X, train.y)"
   ]
  },
  {
   "cell_type": "code",
   "execution_count": 24,
   "id": "e02c3507-c88c-4247-a274-bcf7a6cb4db8",
   "metadata": {
    "tags": []
   },
   "outputs": [
    {
     "data": {
      "text/plain": [
       "0.9137931034482759"
      ]
     },
     "execution_count": 24,
     "metadata": {},
     "output_type": "execute_result"
    }
   ],
   "source": [
    "classificador_simples.score(test.X, test.y)"
   ]
  },
  {
   "cell_type": "code",
   "execution_count": 25,
   "id": "8a90eef5-88e5-46fe-a89e-0348656fb369",
   "metadata": {
    "tags": []
   },
   "outputs": [
    {
     "data": {
      "text/plain": [
       "<sklearn.metrics._plot.confusion_matrix.ConfusionMatrixDisplay at 0x7f5bd85a3210>"
      ]
     },
     "execution_count": 25,
     "metadata": {},
     "output_type": "execute_result"
    },
    {
     "data": {
      "image/png": "[encoded data removed]",
      "text/plain": [
       "<Figure size 864x576 with 2 Axes>"
      ]
     },
     "metadata": {},
     "output_type": "display_data"
    }
   ],
   "source": [
    "ConfusionMatrixDisplay.from_estimator(classificador_simples, test.X, test.y)"
   ]
  },
  {
   "cell_type": "code",
   "execution_count": 28,
   "id": "ffebaae0-521b-4e71-8bf5-7e33d309f825",
   "metadata": {
    "tags": []
   },
   "outputs": [],
   "source": [
    "data_ads = ADSData().build(ds_tratado.to_pandas(), 'TenYearCHD')"
   ]
  },
  {
   "cell_type": "code",
   "execution_count": 29,
   "id": "eb0e0043-2764-4f27-a2cd-460e7108caba",
   "metadata": {
    "tags": []
   },
   "outputs": [
    {
     "name": "stdout",
     "output_type": "stream",
     "text": [
      "WARNING:ads.automl.provider.xengine:Local ProcessPool execution (n_jobs=8)\n"
     ]
    }
   ],
   "source": [
    "oracle_automl = AutoML(data_ads)"
   ]
  },
  {
   "cell_type": "code",
   "execution_count": 30,
   "id": "c3959e08-915d-43be-83a2-333f61557330",
   "metadata": {
    "tags": []
   },
   "outputs": [
    {
     "name": "stdout",
     "output_type": "stream",
     "text": [
      "WARNING:ads.automl.provider.pipeline:Random state (7) is used for model builds\n",
      "WARNING:ads.automl.provider.pipeline:Dataset shape: (6954, 16)\n",
      "WARNING:ads.automl.provider.pipeline:Running Auto-Preprocessing\n",
      "WARNING:ads.automl.provider.pipeline:Preprocessing completed. Updated Dataset shape: (6954, 16), cv: 5\n",
      "WARNING:ads.automl.provider.pipeline:Running Model Selection\n",
      "WARNING:ads.automl.provider.pipeline:Model Selection completed. Selected model: ['RandomForestClassifier']\n",
      "WARNING:ads.automl.provider.pipeline:Running Adaptive Sampling. Dataset Shape: (6954, 16), Valid Shape: None, CV: 5, Class counts: [3477 3477]\n",
      "WARNING:ads.automl.provider.pipeline:Adaptive Sampling Completed. Updated Dataset Shape: (6954, 16), Valid Shape: None, CV: [(3426, 1391), (3426, 1391), (3426, 1391), (3426, 1391), (3426, 1390)], Class counts: [3477 3477]\n",
      "WARNING:ads.automl.provider.pipeline:Starting Feature Selection 0. Dataset Shape: (6954, 16)\n",
      "WARNING:ads.automl.provider.pipeline:Feature Selection 0 completed. Updated Dataset shape: (6954, 13)\n",
      "WARNING:ads.automl.provider.pipeline:Tuning RandomForestClassifier\n",
      "WARNING:ads.automl.provider.pipeline:Tuning completed. Best params: {'class_weight': 'balanced_subsample', 'max_features': 0.07692307692307693, 'min_samples_leaf': 0.0001438021282714984, 'min_samples_split': 0.0002876042565429968, 'n_estimators': 252}\n",
      "WARNING:ads.automl.provider.pipeline:(Re)fitting Pipeline\n",
      "WARNING:ads.automl.provider.pipeline:Running Auto-Preprocessing\n",
      "WARNING:ads.automl.provider.pipeline:Preprocessing completed. Updated Dataset shape: (6954, 16), cv: auto\n",
      "INFO:xengine:All work stopped\n",
      "INFO:xengine:All work stopped\n",
      "WARNING:ads.automl.provider.xengine:Local ProcessPool execution (n_jobs=8)\n",
      "WARNING:ads.automl.provider.pipeline:AutoML completed. Time taken - 62.563 sec\n"
     ]
    },
    {
     "data": {
      "text/html": [
       "<table border=\"1\" class=\"dataframe\">\n",
       "  <tbody>\n",
       "    <tr>\n",
       "      <td>Training Dataset size</td>\n",
       "      <td>(6954, 16)</td>\n",
       "    </tr>\n",
       "    <tr>\n",
       "      <td>Validation Dataset size</td>\n",
       "      <td>None</td>\n",
       "    </tr>\n",
       "    <tr>\n",
       "      <td>CV</td>\n",
       "      <td>5</td>\n",
       "    </tr>\n",
       "    <tr>\n",
       "      <td>Target variable</td>\n",
       "      <td>TenYearCHD</td>\n",
       "    </tr>\n",
       "    <tr>\n",
       "      <td>Optimization Metric</td>\n",
       "      <td>accuracy</td>\n",
       "    </tr>\n",
       "    <tr>\n",
       "      <td>Initial number of Features</td>\n",
       "      <td>16</td>\n",
       "    </tr>\n",
       "    <tr>\n",
       "      <td>Selected number of Features</td>\n",
       "      <td>13</td>\n",
       "    </tr>\n",
       "    <tr>\n",
       "      <td>Selected Features</td>\n",
       "      <td>Index(['male', 'age', 'education', 'cigsPerDay', 'prevalentHyp', 'diabetes',\n",
       "       'totChol', 'sysBP', 'diaBP', 'BMI', 'heartRate', 'glucose',\n",
       "       'fumante_categorico'],\n",
       "      dtype='object')</td>\n",
       "    </tr>\n",
       "    <tr>\n",
       "      <td>Selected Algorithm</td>\n",
       "      <td>RandomForestClassifier</td>\n",
       "    </tr>\n",
       "    <tr>\n",
       "      <td>End-to-end Elapsed Time (seconds)</td>\n",
       "      <td>62.7386</td>\n",
       "    </tr>\n",
       "    <tr>\n",
       "      <td>Selected Hyperparameters</td>\n",
       "      <td>{'bootstrap': True, 'ccp_alpha': 0.0, 'class_weight': 'balanced_subsample', 'criterion': 'gini', 'max_depth': None, 'max_features': 0.07692307692307693, 'max_leaf_nodes': None, 'max_samples': None, 'min_impurity_decrease': 0.0, 'min_samples_leaf': 0.0001438021282714984, 'min_samples_split': 0.0002876042565429968, 'min_weight_fraction_leaf': 0.0, 'n_estimators': 252, 'n_jobs': 16, 'oob_score': False, 'random_state': 7, 'verbose': 0, 'warm_start': False}</td>\n",
       "    </tr>\n",
       "    <tr>\n",
       "      <td>Mean Validation Score</td>\n",
       "      <td>0.9359</td>\n",
       "    </tr>\n",
       "    <tr>\n",
       "      <td>AutoML n_jobs</td>\n",
       "      <td>16</td>\n",
       "    </tr>\n",
       "    <tr>\n",
       "      <td>AutoML version</td>\n",
       "      <td>1.0</td>\n",
       "    </tr>\n",
       "    <tr>\n",
       "      <td>Python version</td>\n",
       "      <td>3.7.12 | packaged by conda-forge | (default, Oct 26 2021, 06:08:53) \\n[GCC 9.4.0]</td>\n",
       "    </tr>\n",
       "  </tbody>\n",
       "</table>"
      ],
      "text/plain": [
       "<IPython.core.display.HTML object>"
      ]
     },
     "metadata": {},
     "output_type": "display_data"
    },
    {
     "data": {
      "text/html": [
       "<table border=\"1\" class=\"dataframe\">\n",
       "  <thead>\n",
       "    <tr style=\"text-align: right;\">\n",
       "      <th>Rank based on Performance</th>\n",
       "      <th>Algorithm</th>\n",
       "      <th>#Samples</th>\n",
       "      <th>#Features</th>\n",
       "      <th>Mean Validation Score</th>\n",
       "      <th>Hyperparameters</th>\n",
       "      <th>CPU Time</th>\n",
       "      <th>Memory Usage</th>\n",
       "    </tr>\n",
       "  </thead>\n",
       "  <tbody>\n",
       "    <tr>\n",
       "      <td>2</td>\n",
       "      <td>RandomForestClassifier_HT</td>\n",
       "      <td>6954</td>\n",
       "      <td>13</td>\n",
       "      <td>0.9350</td>\n",
       "      <td>{'class_weight': 'balanced_subsample', 'max_features': 0.07692307692307693, 'min_samples_leaf': 0.0001438021282714984, 'min_samples_split': 0.0002876042565429968, 'n_estimators': 253}</td>\n",
       "      <td>4.6360</td>\n",
       "      <td>0.0</td>\n",
       "    </tr>\n",
       "    <tr>\n",
       "      <td>3</td>\n",
       "      <td>RandomForestClassifier_HT</td>\n",
       "      <td>6954</td>\n",
       "      <td>13</td>\n",
       "      <td>0.9344</td>\n",
       "      <td>{'class_weight': 'balanced', 'max_features': 0.07692307692307693, 'min_samples_leaf': 0.0001438021282714984, 'min_samples_split': 0.0002876042565429968, 'n_estimators': 252}</td>\n",
       "      <td>3.5040</td>\n",
       "      <td>0.0</td>\n",
       "    </tr>\n",
       "    <tr>\n",
       "      <td>4</td>\n",
       "      <td>RandomForestClassifier_HT</td>\n",
       "      <td>6954</td>\n",
       "      <td>13</td>\n",
       "      <td>0.9344</td>\n",
       "      <td>{'class_weight': None, 'max_features': 0.07692307692307693, 'min_samples_leaf': 0.0001438021282714984, 'min_samples_split': 0.0002876042565429968, 'n_estimators': 252}</td>\n",
       "      <td>3.5516</td>\n",
       "      <td>0.0</td>\n",
       "    </tr>\n",
       "    <tr>\n",
       "      <td>5</td>\n",
       "      <td>RandomForestClassifier_HT</td>\n",
       "      <td>6954</td>\n",
       "      <td>13</td>\n",
       "      <td>0.9336</td>\n",
       "      <td>{'class_weight': None, 'max_features': 0.07692307692307693, 'min_samples_leaf': 0.0001438021282714984, 'min_samples_split': 0.0002876042565429968, 'n_estimators': 253}</td>\n",
       "      <td>3.5705</td>\n",
       "      <td>0.0</td>\n",
       "    </tr>\n",
       "    <tr>\n",
       "      <td>6</td>\n",
       "      <td>RandomForestClassifier_HT</td>\n",
       "      <td>6954</td>\n",
       "      <td>13</td>\n",
       "      <td>0.9321</td>\n",
       "      <td>{'class_weight': None, 'max_features': 0.07692307692307693, 'min_samples_leaf': 0.0001438021282714984, 'min_samples_split': 0.0002876042565429968, 'n_estimators': 24}</td>\n",
       "      <td>0.3512</td>\n",
       "      <td>0.0</td>\n",
       "    </tr>\n",
       "    <tr>\n",
       "      <td>...</td>\n",
       "      <td>...</td>\n",
       "      <td>...</td>\n",
       "      <td>...</td>\n",
       "      <td>...</td>\n",
       "      <td>...</td>\n",
       "      <td>...</td>\n",
       "      <td>...</td>\n",
       "    </tr>\n",
       "    <tr>\n",
       "      <td>117</td>\n",
       "      <td>RandomForestClassifier_HT</td>\n",
       "      <td>6954</td>\n",
       "      <td>13</td>\n",
       "      <td>0.6746</td>\n",
       "      <td>{'class_weight': 'balanced', 'max_features': 0.777777778, 'min_samples_leaf': 0.000625, 'min_samples_split': 0.13135354258476784, 'n_estimators': 100}</td>\n",
       "      <td>1.8450</td>\n",
       "      <td>0.0</td>\n",
       "    </tr>\n",
       "    <tr>\n",
       "      <td>118</td>\n",
       "      <td>RandomForestClassifier_HT</td>\n",
       "      <td>6954</td>\n",
       "      <td>13</td>\n",
       "      <td>0.6680</td>\n",
       "      <td>{'class_weight': None, 'max_features': 0.07692307692307693, 'min_samples_leaf': 0.0001438021282714984, 'min_samples_split': 0.38065381323669234, 'n_estimators': 252}</td>\n",
       "      <td>1.7270</td>\n",
       "      <td>0.0</td>\n",
       "    </tr>\n",
       "    <tr>\n",
       "      <td>119</td>\n",
       "      <td>RandomForestClassifier_HT</td>\n",
       "      <td>6954</td>\n",
       "      <td>13</td>\n",
       "      <td>0.6613</td>\n",
       "      <td>{'class_weight': None, 'max_features': 0.07692307692307693, 'min_samples_leaf': 0.0001438021282714984, 'min_samples_split': 0.1313435454608104, 'n_estimators': 5}</td>\n",
       "      <td>0.0702</td>\n",
       "      <td>0.0</td>\n",
       "    </tr>\n",
       "    <tr>\n",
       "      <td>120</td>\n",
       "      <td>RandomForestClassifier_HT</td>\n",
       "      <td>6954</td>\n",
       "      <td>13</td>\n",
       "      <td>0.6613</td>\n",
       "      <td>{'class_weight': None, 'max_features': 0.07692307692307693, 'min_samples_leaf': 0.0001438021282714984, 'min_samples_split': 0.13135354258476784, 'n_estimators': 5}</td>\n",
       "      <td>0.0662</td>\n",
       "      <td>0.0</td>\n",
       "    </tr>\n",
       "    <tr>\n",
       "      <td>121</td>\n",
       "      <td>RandomForestClassifier_ANOVAF_FS</td>\n",
       "      <td>6954</td>\n",
       "      <td>1</td>\n",
       "      <td>0.6431</td>\n",
       "      <td>{'n_estimators': 100, 'class_weight': 'balanced', 'max_features': 0.777777778, 'min_samples_leaf': 0.000625, 'min_samples_split': 0.00125}</td>\n",
       "      <td>0.9146</td>\n",
       "      <td>0.0</td>\n",
       "    </tr>\n",
       "  </tbody>\n",
       "</table>"
      ],
      "text/plain": [
       "<IPython.core.display.HTML object>"
      ]
     },
     "metadata": {},
     "output_type": "display_data"
    }
   ],
   "source": [
    "automl_model1, baseline = oracle_automl.train(score_metric='accuracy', model_list=['RandomForestClassifier', 'DecisionTreeClassifier', 'SVC', 'LogisticRegression'], time_budget=150)"
   ]
  },
  {
   "cell_type": "code",
   "execution_count": 31,
   "id": "8834e2d8-bf28-4396-a0f8-ac3045ffd262",
   "metadata": {
    "tags": []
   },
   "outputs": [
    {
     "data": {
      "text/html": [
       "<table border=\"1\" class=\"dataframe\">\n",
       "  <thead>\n",
       "    <tr style=\"text-align: right;\">\n",
       "      <th>Algorithm</th>\n",
       "      <th>#Samples</th>\n",
       "      <th>#Features</th>\n",
       "      <th>Mean Validation Score</th>\n",
       "      <th>Hyperparameters</th>\n",
       "      <th>CPU Time</th>\n",
       "      <th>Memory Usage (GB)</th>\n",
       "    </tr>\n",
       "  </thead>\n",
       "  <tbody>\n",
       "    <tr>\n",
       "      <td>RandomForestClassifier_HT</td>\n",
       "      <td>6954</td>\n",
       "      <td>13</td>\n",
       "      <td>0.9359</td>\n",
       "      <td>{'class_weight': 'balanced_subsample', 'max_features': 0.07692307692307693, 'min_samples_leaf': 0.0001438021282714984, 'min_samples_split': 0.0002876042565429968, 'n_estimators': 252}</td>\n",
       "      <td>4.4824</td>\n",
       "      <td>0.0000e+00</td>\n",
       "    </tr>\n",
       "    <tr>\n",
       "      <td>RandomForestClassifier_HT</td>\n",
       "      <td>6954</td>\n",
       "      <td>13</td>\n",
       "      <td>0.9350</td>\n",
       "      <td>{'class_weight': 'balanced_subsample', 'max_features': 0.07692307692307693, 'min_samples_leaf': 0.0001438021282714984, 'min_samples_split': 0.0002876042565429968, 'n_estimators': 253}</td>\n",
       "      <td>4.6360</td>\n",
       "      <td>0.0000e+00</td>\n",
       "    </tr>\n",
       "    <tr>\n",
       "      <td>RandomForestClassifier_HT</td>\n",
       "      <td>6954</td>\n",
       "      <td>13</td>\n",
       "      <td>0.9344</td>\n",
       "      <td>{'class_weight': 'balanced', 'max_features': 0.07692307692307693, 'min_samples_leaf': 0.0001438021282714984, 'min_samples_split': 0.0002876042565429968, 'n_estimators': 252}</td>\n",
       "      <td>3.5040</td>\n",
       "      <td>0.0000e+00</td>\n",
       "    </tr>\n",
       "    <tr>\n",
       "      <td>RandomForestClassifier_HT</td>\n",
       "      <td>6954</td>\n",
       "      <td>13</td>\n",
       "      <td>0.9344</td>\n",
       "      <td>{'class_weight': None, 'max_features': 0.07692307692307693, 'min_samples_leaf': 0.0001438021282714984, 'min_samples_split': 0.0002876042565429968, 'n_estimators': 252}</td>\n",
       "      <td>3.5516</td>\n",
       "      <td>0.0000e+00</td>\n",
       "    </tr>\n",
       "    <tr>\n",
       "      <td>RandomForestClassifier_HT</td>\n",
       "      <td>6954</td>\n",
       "      <td>13</td>\n",
       "      <td>0.9336</td>\n",
       "      <td>{'class_weight': None, 'max_features': 0.07692307692307693, 'min_samples_leaf': 0.0001438021282714984, 'min_samples_split': 0.0002876042565429968, 'n_estimators': 253}</td>\n",
       "      <td>3.5705</td>\n",
       "      <td>0.0000e+00</td>\n",
       "    </tr>\n",
       "    <tr>\n",
       "      <td>RandomForestClassifier_HT</td>\n",
       "      <td>6954</td>\n",
       "      <td>13</td>\n",
       "      <td>0.9321</td>\n",
       "      <td>{'class_weight': None, 'max_features': 0.07692307692307693, 'min_samples_leaf': 0.0001438021282714984, 'min_samples_split': 0.0002876042565429968, 'n_estimators': 24}</td>\n",
       "      <td>0.3512</td>\n",
       "      <td>0.0000e+00</td>\n",
       "    </tr>\n",
       "    <tr>\n",
       "      <td>RandomForestClassifier_HT</td>\n",
       "      <td>6954</td>\n",
       "      <td>13</td>\n",
       "      <td>0.9308</td>\n",
       "      <td>{'class_weight': None, 'max_features': 0.07692307692307693, 'min_samples_leaf': 0.0001438021282714984, 'min_samples_split': 0.0002876042565429968, 'n_estimators': 100}</td>\n",
       "      <td>1.4201</td>\n",
       "      <td>0.0000e+00</td>\n",
       "    </tr>\n",
       "    <tr>\n",
       "      <td>RandomForestClassifier_HT</td>\n",
       "      <td>6954</td>\n",
       "      <td>13</td>\n",
       "      <td>0.9294</td>\n",
       "      <td>{'class_weight': None, 'max_features': 0.07692307692307693, 'min_samples_leaf': 0.0001438021282714984, 'min_samples_split': 0.0002876042565429968, 'n_estimators': 20}</td>\n",
       "      <td>0.2986</td>\n",
       "      <td>0.0000e+00</td>\n",
       "    </tr>\n",
       "    <tr>\n",
       "      <td>RandomForestClassifier_HT</td>\n",
       "      <td>6954</td>\n",
       "      <td>13</td>\n",
       "      <td>0.9287</td>\n",
       "      <td>{'class_weight': None, 'max_features': 0.07692307692307693, 'min_samples_leaf': 0.0001438021282714984, 'min_samples_split': 0.0002876042565429968, 'n_estimators': 101}</td>\n",
       "      <td>1.3871</td>\n",
       "      <td>0.0000e+00</td>\n",
       "    </tr>\n",
       "    <tr>\n",
       "      <td>RandomForestClassifier_AS</td>\n",
       "      <td>5000</td>\n",
       "      <td>16</td>\n",
       "      <td>0.9272</td>\n",
       "      <td>{'n_estimators': 100, 'class_weight': 'balanced', 'max_features': 0.777777778, 'min_samples_leaf': 0.000625, 'min_samples_split': 0.00125}</td>\n",
       "      <td>6.7087</td>\n",
       "      <td>7.3967e-03</td>\n",
       "    </tr>\n",
       "    <tr>\n",
       "      <td>RandomForestClassifier_HT</td>\n",
       "      <td>6954</td>\n",
       "      <td>13</td>\n",
       "      <td>0.9218</td>\n",
       "      <td>{'class_weight': None, 'max_features': 0.07692307692307693, 'min_samples_leaf': 0.0001438021282714984, 'min_samples_split': 0.0002876042565429968, 'n_estimators': 23}</td>\n",
       "      <td>0.3489</td>\n",
       "      <td>0.0000e+00</td>\n",
       "    </tr>\n",
       "    <tr>\n",
       "      <td>RandomForestClassifier_HT</td>\n",
       "      <td>6954</td>\n",
       "      <td>13</td>\n",
       "      <td>0.9202</td>\n",
       "      <td>{'class_weight': None, 'max_features': 0.07692307692307693, 'min_samples_leaf': 0.0001438021282714984, 'min_samples_split': 0.0002876042565429968, 'n_estimators': 19}</td>\n",
       "      <td>0.2936</td>\n",
       "      <td>0.0000e+00</td>\n",
       "    </tr>\n",
       "    <tr>\n",
       "      <td>RandomForestClassifier_HT</td>\n",
       "      <td>6954</td>\n",
       "      <td>13</td>\n",
       "      <td>0.9196</td>\n",
       "      <td>{'class_weight': None, 'max_features': 0.07692307692307693, 'min_samples_leaf': 0.0001438021282714984, 'min_samples_split': 0.0012599971239574345, 'n_estimators': 252}</td>\n",
       "      <td>3.4671</td>\n",
       "      <td>0.0000e+00</td>\n",
       "    </tr>\n",
       "    <tr>\n",
       "      <td>RandomForestClassifier_HT</td>\n",
       "      <td>6954</td>\n",
       "      <td>13</td>\n",
       "      <td>0.9160</td>\n",
       "      <td>{'class_weight': None, 'max_features': 0.07692307692307693, 'min_samples_leaf': 0.0001438021282714984, 'min_samples_split': 0.0002876042565429968, 'n_estimators': 6}</td>\n",
       "      <td>0.1132</td>\n",
       "      <td>0.0000e+00</td>\n",
       "    </tr>\n",
       "    <tr>\n",
       "      <td>RandomForestClassifier_HT</td>\n",
       "      <td>6954</td>\n",
       "      <td>13</td>\n",
       "      <td>0.8916</td>\n",
       "      <td>{'class_weight': 'balanced', 'max_features': 0.777777778, 'min_samples_leaf': 0.000625, 'min_samples_split': 0.00125, 'n_estimators': 93}</td>\n",
       "      <td>4.0416</td>\n",
       "      <td>0.0000e+00</td>\n",
       "    </tr>\n",
       "    <tr>\n",
       "      <td>RandomForestClassifier_HT</td>\n",
       "      <td>6954</td>\n",
       "      <td>13</td>\n",
       "      <td>0.8916</td>\n",
       "      <td>{'class_weight': 'balanced', 'max_features': 0.7777870087692308, 'min_samples_leaf': 0.000625, 'min_samples_split': 0.00125, 'n_estimators': 253}</td>\n",
       "      <td>10.8339</td>\n",
       "      <td>7.5531e-03</td>\n",
       "    </tr>\n",
       "    <tr>\n",
       "      <td>RandomForestClassifier_HT</td>\n",
       "      <td>6954</td>\n",
       "      <td>13</td>\n",
       "      <td>0.8916</td>\n",
       "      <td>{'class_weight': 'balanced', 'max_features': 0.777777778, 'min_samples_leaf': 0.000625, 'min_samples_split': 0.00125, 'n_estimators': 253}</td>\n",
       "      <td>11.1775</td>\n",
       "      <td>6.5422e-03</td>\n",
       "    </tr>\n",
       "    <tr>\n",
       "      <td>RandomForestClassifier_HT</td>\n",
       "      <td>6954</td>\n",
       "      <td>13</td>\n",
       "      <td>0.8916</td>\n",
       "      <td>{'class_weight': None, 'max_features': 0.777777778, 'min_samples_leaf': 0.000625, 'min_samples_split': 0.00125, 'n_estimators': 253}</td>\n",
       "      <td>10.8487</td>\n",
       "      <td>8.0528e-03</td>\n",
       "    </tr>\n",
       "    <tr>\n",
       "      <td>RandomForestClassifier_HT</td>\n",
       "      <td>6954</td>\n",
       "      <td>13</td>\n",
       "      <td>0.8916</td>\n",
       "      <td>{'class_weight': 'balanced', 'max_features': 0.777777778, 'min_samples_leaf': 0.0006299985619787172, 'min_samples_split': 0.00125, 'n_estimators': 253}</td>\n",
       "      <td>10.9730</td>\n",
       "      <td>6.7940e-03</td>\n",
       "    </tr>\n",
       "    <tr>\n",
       "      <td>RandomForestClassifier_HT</td>\n",
       "      <td>6954</td>\n",
       "      <td>13</td>\n",
       "      <td>0.8914</td>\n",
       "      <td>{'class_weight': 'balanced', 'max_features': 0.777777778, 'min_samples_leaf': 0.000625, 'min_samples_split': 0.00125, 'n_estimators': 92}</td>\n",
       "      <td>3.9948</td>\n",
       "      <td>0.0000e+00</td>\n",
       "    </tr>\n",
       "    <tr>\n",
       "      <td>RandomForestClassifier_HT</td>\n",
       "      <td>6954</td>\n",
       "      <td>13</td>\n",
       "      <td>0.8914</td>\n",
       "      <td>{'class_weight': 'balanced', 'max_features': 0.777777778, 'min_samples_leaf': 0.000625, 'min_samples_split': 0.00125, 'n_estimators': 252}</td>\n",
       "      <td>10.7711</td>\n",
       "      <td>7.3013e-03</td>\n",
       "    </tr>\n",
       "    <tr>\n",
       "      <td>RandomForestClassifier_HT</td>\n",
       "      <td>6954</td>\n",
       "      <td>13</td>\n",
       "      <td>0.8909</td>\n",
       "      <td>{'class_weight': 'balanced', 'max_features': 0.777777778, 'min_samples_leaf': 0.000625, 'min_samples_split': 0.00125, 'n_estimators': 101}</td>\n",
       "      <td>4.3927</td>\n",
       "      <td>0.0000e+00</td>\n",
       "    </tr>\n",
       "    <tr>\n",
       "      <td>RandomForestClassifier_HT</td>\n",
       "      <td>6954</td>\n",
       "      <td>13</td>\n",
       "      <td>0.8907</td>\n",
       "      <td>{'class_weight': 'balanced', 'max_features': 0.777777778, 'min_samples_leaf': 0.000625, 'min_samples_split': 0.00125, 'n_estimators': 82}</td>\n",
       "      <td>3.5411</td>\n",
       "      <td>0.0000e+00</td>\n",
       "    </tr>\n",
       "    <tr>\n",
       "      <td>RandomForestClassifier_HT</td>\n",
       "      <td>6954</td>\n",
       "      <td>13</td>\n",
       "      <td>0.8906</td>\n",
       "      <td>{'class_weight': 'balanced', 'max_features': 0.777777778, 'min_samples_leaf': 0.000625, 'min_samples_split': 0.00125, 'n_estimators': 83}</td>\n",
       "      <td>3.6220</td>\n",
       "      <td>0.0000e+00</td>\n",
       "    </tr>\n",
       "    <tr>\n",
       "      <td>RandomForestClassifier_HT</td>\n",
       "      <td>6954</td>\n",
       "      <td>13</td>\n",
       "      <td>0.8901</td>\n",
       "      <td>{'class_weight': 'balanced_subsample', 'max_features': 0.777777778, 'min_samples_leaf': 0.000625, 'min_samples_split': 0.00125, 'n_estimators': 253}</td>\n",
       "      <td>12.0838</td>\n",
       "      <td>5.7869e-03</td>\n",
       "    </tr>\n",
       "    <tr>\n",
       "      <td>RandomForestClassifier_AVGRanking_FS</td>\n",
       "      <td>6954</td>\n",
       "      <td>13</td>\n",
       "      <td>0.8901</td>\n",
       "      <td>{'n_estimators': 100, 'class_weight': 'balanced', 'max_features': 0.777777778, 'min_samples_leaf': 0.000625, 'min_samples_split': 0.00125}</td>\n",
       "      <td>4.3742</td>\n",
       "      <td>0.0000e+00</td>\n",
       "    </tr>\n",
       "    <tr>\n",
       "      <td>RandomForestClassifier_ADS</td>\n",
       "      <td>3012</td>\n",
       "      <td>16</td>\n",
       "      <td>0.8896</td>\n",
       "      <td>{'bootstrap': True, 'ccp_alpha': 0.0, 'class_weight': 'balanced', 'criterion': 'gini', 'max_depth': None, 'max_features': 0.777777778, 'max_leaf_nodes': None, 'max_samples': None, 'min_impurity_decrease': 0.0, 'min_samples_leaf': 0.000625, 'min_samples_split': 0.00125, 'min_weight_fraction_leaf': 0.0, 'n_estimators': 100, 'n_jobs': 1, 'oob_score': False, 'random_state': 7, 'verbose': 0, 'warm_start': False}</td>\n",
       "      <td>4.0997</td>\n",
       "      <td>0.0000e+00</td>\n",
       "    </tr>\n",
       "    <tr>\n",
       "      <td>RandomForestClassifier_HT</td>\n",
       "      <td>6954</td>\n",
       "      <td>13</td>\n",
       "      <td>0.8896</td>\n",
       "      <td>{'class_weight': 'balanced_subsample', 'max_features': 0.777777778, 'min_samples_leaf': 0.000625, 'min_samples_split': 0.00125, 'n_estimators': 252}</td>\n",
       "      <td>12.1504</td>\n",
       "      <td>7.5531e-03</td>\n",
       "    </tr>\n",
       "    <tr>\n",
       "      <td>RandomForestClassifier_ANOVAF_FS</td>\n",
       "      <td>6954</td>\n",
       "      <td>16</td>\n",
       "      <td>0.8896</td>\n",
       "      <td>{'n_estimators': 100, 'class_weight': 'balanced', 'max_features': 0.777777778, 'min_samples_leaf': 0.000625, 'min_samples_split': 0.00125}</td>\n",
       "      <td>4.4842</td>\n",
       "      <td>0.0000e+00</td>\n",
       "    </tr>\n",
       "    <tr>\n",
       "      <td>RandomForestClassifier_RandomForestClassifier_FS</td>\n",
       "      <td>6954</td>\n",
       "      <td>11</td>\n",
       "      <td>0.8896</td>\n",
       "      <td>{'n_estimators': 100, 'class_weight': 'balanced', 'max_features': 0.777777778, 'min_samples_leaf': 0.000625, 'min_samples_split': 0.00125}</td>\n",
       "      <td>4.2333</td>\n",
       "      <td>3.8147e-05</td>\n",
       "    </tr>\n",
       "    <tr>\n",
       "      <td>RandomForestClassifier_HT</td>\n",
       "      <td>6954</td>\n",
       "      <td>13</td>\n",
       "      <td>0.8893</td>\n",
       "      <td>{'class_weight': None, 'max_features': 0.777777778, 'min_samples_leaf': 0.000625, 'min_samples_split': 0.00125, 'n_estimators': 100}</td>\n",
       "      <td>4.4856</td>\n",
       "      <td>2.3651e-04</td>\n",
       "    </tr>\n",
       "    <tr>\n",
       "      <td>RandomForestClassifier_HT</td>\n",
       "      <td>6954</td>\n",
       "      <td>13</td>\n",
       "      <td>0.8893</td>\n",
       "      <td>{'class_weight': 'balanced', 'max_features': 0.777777778, 'min_samples_leaf': 0.000625, 'min_samples_split': 0.00125, 'n_estimators': 100}</td>\n",
       "      <td>4.3112</td>\n",
       "      <td>0.0000e+00</td>\n",
       "    </tr>\n",
       "    <tr>\n",
       "      <td>RandomForestClassifier_HT</td>\n",
       "      <td>6954</td>\n",
       "      <td>13</td>\n",
       "      <td>0.8893</td>\n",
       "      <td>{'class_weight': 'balanced', 'max_features': 0.7777870087692308, 'min_samples_leaf': 0.000625, 'min_samples_split': 0.00125, 'n_estimators': 100}</td>\n",
       "      <td>4.3464</td>\n",
       "      <td>0.0000e+00</td>\n",
       "    </tr>\n",
       "    <tr>\n",
       "      <td>RandomForestClassifier_HT</td>\n",
       "      <td>6954</td>\n",
       "      <td>13</td>\n",
       "      <td>0.8893</td>\n",
       "      <td>{'class_weight': 'balanced', 'max_features': 0.777777778, 'min_samples_leaf': 0.0006299985619787172, 'min_samples_split': 0.00125, 'n_estimators': 100}</td>\n",
       "      <td>4.3308</td>\n",
       "      <td>0.0000e+00</td>\n",
       "    </tr>\n",
       "    <tr>\n",
       "      <td>RandomForestClassifier_HT</td>\n",
       "      <td>6954</td>\n",
       "      <td>13</td>\n",
       "      <td>0.8893</td>\n",
       "      <td>{'class_weight': 'balanced', 'max_features': 0.777777778, 'min_samples_leaf': 0.000625, 'min_samples_split': 0.0012599971239574345, 'n_estimators': 100}</td>\n",
       "      <td>4.2816</td>\n",
       "      <td>0.0000e+00</td>\n",
       "    </tr>\n",
       "    <tr>\n",
       "      <td>RandomForestClassifier_MIClassification_FS</td>\n",
       "      <td>6954</td>\n",
       "      <td>15</td>\n",
       "      <td>0.8888</td>\n",
       "      <td>{'n_estimators': 100, 'class_weight': 'balanced', 'max_features': 0.777777778, 'min_samples_leaf': 0.000625, 'min_samples_split': 0.00125}</td>\n",
       "      <td>4.3444</td>\n",
       "      <td>0.0000e+00</td>\n",
       "    </tr>\n",
       "    <tr>\n",
       "      <td>RandomForestClassifier_RandomForestClassifier_FS</td>\n",
       "      <td>6954</td>\n",
       "      <td>7</td>\n",
       "      <td>0.8884</td>\n",
       "      <td>{'n_estimators': 100, 'class_weight': 'balanced', 'max_features': 0.777777778, 'min_samples_leaf': 0.000625, 'min_samples_split': 0.00125}</td>\n",
       "      <td>3.7947</td>\n",
       "      <td>0.0000e+00</td>\n",
       "    </tr>\n",
       "    <tr>\n",
       "      <td>RandomForestClassifier_RandomForestClassifier_FS</td>\n",
       "      <td>6954</td>\n",
       "      <td>13</td>\n",
       "      <td>0.8884</td>\n",
       "      <td>{'n_estimators': 100, 'class_weight': 'balanced', 'max_features': 0.777777778, 'min_samples_leaf': 0.000625, 'min_samples_split': 0.00125}</td>\n",
       "      <td>4.4571</td>\n",
       "      <td>0.0000e+00</td>\n",
       "    </tr>\n",
       "    <tr>\n",
       "      <td>RandomForestClassifier_MIClassification_FS</td>\n",
       "      <td>6954</td>\n",
       "      <td>13</td>\n",
       "      <td>0.8883</td>\n",
       "      <td>{'n_estimators': 100, 'class_weight': 'balanced', 'max_features': 0.777777778, 'min_samples_leaf': 0.000625, 'min_samples_split': 0.00125}</td>\n",
       "      <td>4.3482</td>\n",
       "      <td>0.0000e+00</td>\n",
       "    </tr>\n",
       "    <tr>\n",
       "      <td>RandomForestClassifier_HT</td>\n",
       "      <td>6954</td>\n",
       "      <td>13</td>\n",
       "      <td>0.8880</td>\n",
       "      <td>{'class_weight': 'balanced_subsample', 'max_features': 0.777777778, 'min_samples_leaf': 0.000625, 'min_samples_split': 0.00125, 'n_estimators': 100}</td>\n",
       "      <td>5.0484</td>\n",
       "      <td>0.0000e+00</td>\n",
       "    </tr>\n",
       "    <tr>\n",
       "      <td>RandomForestClassifier_AVGRanking_FS</td>\n",
       "      <td>6954</td>\n",
       "      <td>11</td>\n",
       "      <td>0.8878</td>\n",
       "      <td>{'n_estimators': 100, 'class_weight': 'balanced', 'max_features': 0.777777778, 'min_samples_leaf': 0.000625, 'min_samples_split': 0.00125}</td>\n",
       "      <td>4.0624</td>\n",
       "      <td>0.0000e+00</td>\n",
       "    </tr>\n",
       "    <tr>\n",
       "      <td>RandomForestClassifier_HT</td>\n",
       "      <td>6954</td>\n",
       "      <td>13</td>\n",
       "      <td>0.8871</td>\n",
       "      <td>{'class_weight': None, 'max_features': 0.07694153846153849, 'min_samples_leaf': 0.0001438021282714984, 'min_samples_split': 0.0002876042565429968, 'n_estimators': 5}</td>\n",
       "      <td>0.0916</td>\n",
       "      <td>0.0000e+00</td>\n",
       "    </tr>\n",
       "    <tr>\n",
       "      <td>RandomForestClassifier_HT</td>\n",
       "      <td>6954</td>\n",
       "      <td>13</td>\n",
       "      <td>0.8871</td>\n",
       "      <td>{'class_weight': None, 'max_features': 0.07693230769230772, 'min_samples_leaf': 0.0001438021282714984, 'min_samples_split': 0.0002876042565429968, 'n_estimators': 5}</td>\n",
       "      <td>0.0979</td>\n",
       "      <td>0.0000e+00</td>\n",
       "    </tr>\n",
       "    <tr>\n",
       "      <td>RandomForestClassifier_HT</td>\n",
       "      <td>6954</td>\n",
       "      <td>13</td>\n",
       "      <td>0.8871</td>\n",
       "      <td>{'class_weight': None, 'max_features': 0.07692307692307693, 'min_samples_leaf': 0.0001438021282714984, 'min_samples_split': 0.0002876042565429968, 'n_estimators': 5}</td>\n",
       "      <td>0.0937</td>\n",
       "      <td>0.0000e+00</td>\n",
       "    </tr>\n",
       "    <tr>\n",
       "      <td>RandomForestClassifier_ADS</td>\n",
       "      <td>3426</td>\n",
       "      <td>16</td>\n",
       "      <td>0.8870</td>\n",
       "      <td>{'bootstrap': True, 'ccp_alpha': 0.0, 'class_weight': 'balanced', 'criterion': 'gini', 'max_depth': None, 'max_features': 0.777777778, 'max_leaf_nodes': None, 'max_samples': None, 'min_impurity_decrease': 0.0, 'min_samples_leaf': 0.000625, 'min_samples_split': 0.00125, 'min_weight_fraction_leaf': 0.0, 'n_estimators': 100, 'n_jobs': 1, 'oob_score': False, 'random_state': 7, 'verbose': 0, 'warm_start': False}</td>\n",
       "      <td>4.4571</td>\n",
       "      <td>0.0000e+00</td>\n",
       "    </tr>\n",
       "    <tr>\n",
       "      <td>RandomForestClassifier_MIClassification_FS</td>\n",
       "      <td>6954</td>\n",
       "      <td>11</td>\n",
       "      <td>0.8865</td>\n",
       "      <td>{'n_estimators': 100, 'class_weight': 'balanced', 'max_features': 0.777777778, 'min_samples_leaf': 0.000625, 'min_samples_split': 0.00125}</td>\n",
       "      <td>3.7478</td>\n",
       "      <td>0.0000e+00</td>\n",
       "    </tr>\n",
       "    <tr>\n",
       "      <td>RandomForestClassifier_AdaBoostClassifier_FS</td>\n",
       "      <td>6954</td>\n",
       "      <td>9</td>\n",
       "      <td>0.8865</td>\n",
       "      <td>{'n_estimators': 100, 'class_weight': 'balanced', 'max_features': 0.777777778, 'min_samples_leaf': 0.000625, 'min_samples_split': 0.00125}</td>\n",
       "      <td>4.0973</td>\n",
       "      <td>0.0000e+00</td>\n",
       "    </tr>\n",
       "    <tr>\n",
       "      <td>RandomForestClassifier_RandomForestClassifier_FS</td>\n",
       "      <td>6954</td>\n",
       "      <td>9</td>\n",
       "      <td>0.8858</td>\n",
       "      <td>{'n_estimators': 100, 'class_weight': 'balanced', 'max_features': 0.777777778, 'min_samples_leaf': 0.000625, 'min_samples_split': 0.00125}</td>\n",
       "      <td>4.2736</td>\n",
       "      <td>0.0000e+00</td>\n",
       "    </tr>\n",
       "    <tr>\n",
       "      <td>RandomForestClassifier_HT</td>\n",
       "      <td>6954</td>\n",
       "      <td>13</td>\n",
       "      <td>0.8852</td>\n",
       "      <td>{'class_weight': 'balanced', 'max_features': 0.5266654171178782, 'min_samples_leaf': 0.000625, 'min_samples_split': 0.00125, 'n_estimators': 100}</td>\n",
       "      <td>2.9939</td>\n",
       "      <td>0.0000e+00</td>\n",
       "    </tr>\n",
       "    <tr>\n",
       "      <td>RandomForestClassifier_HT</td>\n",
       "      <td>6954</td>\n",
       "      <td>13</td>\n",
       "      <td>0.8852</td>\n",
       "      <td>{'class_weight': 'balanced', 'max_features': 0.5266561863486474, 'min_samples_leaf': 0.000625, 'min_samples_split': 0.00125, 'n_estimators': 100}</td>\n",
       "      <td>3.0044</td>\n",
       "      <td>0.0000e+00</td>\n",
       "    </tr>\n",
       "    <tr>\n",
       "      <td>RandomForestClassifier_AdaBoostClassifier_FS</td>\n",
       "      <td>6954</td>\n",
       "      <td>10</td>\n",
       "      <td>0.8851</td>\n",
       "      <td>{'n_estimators': 100, 'class_weight': 'balanced', 'max_features': 0.777777778, 'min_samples_leaf': 0.000625, 'min_samples_split': 0.00125}</td>\n",
       "      <td>3.9786</td>\n",
       "      <td>0.0000e+00</td>\n",
       "    </tr>\n",
       "    <tr>\n",
       "      <td>RandomForestClassifier_AVGRanking_FS</td>\n",
       "      <td>6954</td>\n",
       "      <td>9</td>\n",
       "      <td>0.8842</td>\n",
       "      <td>{'n_estimators': 100, 'class_weight': 'balanced', 'max_features': 0.777777778, 'min_samples_leaf': 0.000625, 'min_samples_split': 0.00125}</td>\n",
       "      <td>4.1538</td>\n",
       "      <td>0.0000e+00</td>\n",
       "    </tr>\n",
       "    <tr>\n",
       "      <td>RandomForestClassifier_ANOVAF_FS</td>\n",
       "      <td>6954</td>\n",
       "      <td>13</td>\n",
       "      <td>0.8834</td>\n",
       "      <td>{'n_estimators': 100, 'class_weight': 'balanced', 'max_features': 0.777777778, 'min_samples_leaf': 0.000625, 'min_samples_split': 0.00125}</td>\n",
       "      <td>4.1065</td>\n",
       "      <td>0.0000e+00</td>\n",
       "    </tr>\n",
       "    <tr>\n",
       "      <td>RandomForestClassifier_ANOVAF_FS</td>\n",
       "      <td>6954</td>\n",
       "      <td>11</td>\n",
       "      <td>0.8832</td>\n",
       "      <td>{'n_estimators': 100, 'class_weight': 'balanced', 'max_features': 0.777777778, 'min_samples_leaf': 0.000625, 'min_samples_split': 0.00125}</td>\n",
       "      <td>3.7260</td>\n",
       "      <td>0.0000e+00</td>\n",
       "    </tr>\n",
       "    <tr>\n",
       "      <td>RandomForestClassifier_MIClassification_FS</td>\n",
       "      <td>6954</td>\n",
       "      <td>9</td>\n",
       "      <td>0.8827</td>\n",
       "      <td>{'n_estimators': 100, 'class_weight': 'balanced', 'max_features': 0.777777778, 'min_samples_leaf': 0.000625, 'min_samples_split': 0.00125}</td>\n",
       "      <td>3.7395</td>\n",
       "      <td>0.0000e+00</td>\n",
       "    </tr>\n",
       "    <tr>\n",
       "      <td>RandomForestClassifier_ANOVAF_FS</td>\n",
       "      <td>6954</td>\n",
       "      <td>9</td>\n",
       "      <td>0.8806</td>\n",
       "      <td>{'n_estimators': 100, 'class_weight': 'balanced', 'max_features': 0.777777778, 'min_samples_leaf': 0.000625, 'min_samples_split': 0.00125}</td>\n",
       "      <td>3.7714</td>\n",
       "      <td>0.0000e+00</td>\n",
       "    </tr>\n",
       "    <tr>\n",
       "      <td>RandomForestClassifier_MIClassification_FS</td>\n",
       "      <td>6954</td>\n",
       "      <td>7</td>\n",
       "      <td>0.8802</td>\n",
       "      <td>{'n_estimators': 100, 'class_weight': 'balanced', 'max_features': 0.777777778, 'min_samples_leaf': 0.000625, 'min_samples_split': 0.00125}</td>\n",
       "      <td>3.4663</td>\n",
       "      <td>0.0000e+00</td>\n",
       "    </tr>\n",
       "    <tr>\n",
       "      <td>RandomForestClassifier_AdaBoostClassifier_FS</td>\n",
       "      <td>6954</td>\n",
       "      <td>7</td>\n",
       "      <td>0.8798</td>\n",
       "      <td>{'n_estimators': 100, 'class_weight': 'balanced', 'max_features': 0.777777778, 'min_samples_leaf': 0.000625, 'min_samples_split': 0.00125}</td>\n",
       "      <td>3.3544</td>\n",
       "      <td>0.0000e+00</td>\n",
       "    </tr>\n",
       "    <tr>\n",
       "      <td>RandomForestClassifier_HT</td>\n",
       "      <td>6954</td>\n",
       "      <td>13</td>\n",
       "      <td>0.8796</td>\n",
       "      <td>{'class_weight': 'balanced_subsample', 'max_features': 0.07692307692307693, 'min_samples_leaf': 0.0001438021282714984, 'min_samples_split': 0.0002876042565429968, 'n_estimators': 5}</td>\n",
       "      <td>0.1136</td>\n",
       "      <td>0.0000e+00</td>\n",
       "    </tr>\n",
       "    <tr>\n",
       "      <td>RandomForestClassifier_AdaBoostClassifier_FS</td>\n",
       "      <td>6954</td>\n",
       "      <td>6</td>\n",
       "      <td>0.8782</td>\n",
       "      <td>{'n_estimators': 100, 'class_weight': 'balanced', 'max_features': 0.777777778, 'min_samples_leaf': 0.000625, 'min_samples_split': 0.00125}</td>\n",
       "      <td>3.1627</td>\n",
       "      <td>0.0000e+00</td>\n",
       "    </tr>\n",
       "    <tr>\n",
       "      <td>RandomForestClassifier_RandomForestClassifier_FS</td>\n",
       "      <td>6954</td>\n",
       "      <td>6</td>\n",
       "      <td>0.8782</td>\n",
       "      <td>{'n_estimators': 100, 'class_weight': 'balanced', 'max_features': 0.777777778, 'min_samples_leaf': 0.000625, 'min_samples_split': 0.00125}</td>\n",
       "      <td>3.3133</td>\n",
       "      <td>0.0000e+00</td>\n",
       "    </tr>\n",
       "    <tr>\n",
       "      <td>RandomForestClassifier_HT</td>\n",
       "      <td>6954</td>\n",
       "      <td>13</td>\n",
       "      <td>0.8776</td>\n",
       "      <td>{'class_weight': None, 'max_features': 0.5266654171178782, 'min_samples_leaf': 0.0001438021282714984, 'min_samples_split': 0.0002876042565429968, 'n_estimators': 5}</td>\n",
       "      <td>0.1885</td>\n",
       "      <td>0.0000e+00</td>\n",
       "    </tr>\n",
       "    <tr>\n",
       "      <td>RandomForestClassifier_HT</td>\n",
       "      <td>6954</td>\n",
       "      <td>13</td>\n",
       "      <td>0.8776</td>\n",
       "      <td>{'class_weight': None, 'max_features': 0.5266561863486474, 'min_samples_leaf': 0.0001438021282714984, 'min_samples_split': 0.0002876042565429968, 'n_estimators': 5}</td>\n",
       "      <td>0.1794</td>\n",
       "      <td>0.0000e+00</td>\n",
       "    </tr>\n",
       "    <tr>\n",
       "      <td>RandomForestClassifier_HT</td>\n",
       "      <td>6954</td>\n",
       "      <td>13</td>\n",
       "      <td>0.8770</td>\n",
       "      <td>{'class_weight': 'balanced', 'max_features': 0.777777778, 'min_samples_leaf': 0.0011329120873672025, 'min_samples_split': 0.00125, 'n_estimators': 100}</td>\n",
       "      <td>4.2470</td>\n",
       "      <td>0.0000e+00</td>\n",
       "    </tr>\n",
       "    <tr>\n",
       "      <td>RandomForestClassifier_HT</td>\n",
       "      <td>6954</td>\n",
       "      <td>13</td>\n",
       "      <td>0.8770</td>\n",
       "      <td>{'class_weight': 'balanced', 'max_features': 0.777777778, 'min_samples_leaf': 0.0011379106493459197, 'min_samples_split': 0.00125, 'n_estimators': 100}</td>\n",
       "      <td>4.2801</td>\n",
       "      <td>0.0000e+00</td>\n",
       "    </tr>\n",
       "    <tr>\n",
       "      <td>RandomForestClassifier_ANOVAF_FS</td>\n",
       "      <td>6954</td>\n",
       "      <td>7</td>\n",
       "      <td>0.8730</td>\n",
       "      <td>{'n_estimators': 100, 'class_weight': 'balanced', 'max_features': 0.777777778, 'min_samples_leaf': 0.000625, 'min_samples_split': 0.00125}</td>\n",
       "      <td>3.0706</td>\n",
       "      <td>0.0000e+00</td>\n",
       "    </tr>\n",
       "    <tr>\n",
       "      <td>RandomForestClassifier_MIClassification_FS</td>\n",
       "      <td>6954</td>\n",
       "      <td>6</td>\n",
       "      <td>0.8717</td>\n",
       "      <td>{'n_estimators': 100, 'class_weight': 'balanced', 'max_features': 0.777777778, 'min_samples_leaf': 0.000625, 'min_samples_split': 0.00125}</td>\n",
       "      <td>3.0272</td>\n",
       "      <td>0.0000e+00</td>\n",
       "    </tr>\n",
       "    <tr>\n",
       "      <td>RandomForestClassifier_ANOVAF_FS</td>\n",
       "      <td>6954</td>\n",
       "      <td>6</td>\n",
       "      <td>0.8710</td>\n",
       "      <td>{'n_estimators': 100, 'class_weight': 'balanced', 'max_features': 0.777777778, 'min_samples_leaf': 0.000625, 'min_samples_split': 0.00125}</td>\n",
       "      <td>2.9358</td>\n",
       "      <td>0.0000e+00</td>\n",
       "    </tr>\n",
       "    <tr>\n",
       "      <td>RandomForestClassifier_AdaBoostClassifier_FS</td>\n",
       "      <td>6954</td>\n",
       "      <td>5</td>\n",
       "      <td>0.8700</td>\n",
       "      <td>{'n_estimators': 100, 'class_weight': 'balanced', 'max_features': 0.777777778, 'min_samples_leaf': 0.000625, 'min_samples_split': 0.00125}</td>\n",
       "      <td>2.6863</td>\n",
       "      <td>0.0000e+00</td>\n",
       "    </tr>\n",
       "    <tr>\n",
       "      <td>RandomForestClassifier_ADS</td>\n",
       "      <td>2712</td>\n",
       "      <td>16</td>\n",
       "      <td>0.8697</td>\n",
       "      <td>{'bootstrap': True, 'ccp_alpha': 0.0, 'class_weight': 'balanced', 'criterion': 'gini', 'max_depth': None, 'max_features': 0.777777778, 'max_leaf_nodes': None, 'max_samples': None, 'min_impurity_decrease': 0.0, 'min_samples_leaf': 0.000625, 'min_samples_split': 0.00125, 'min_weight_fraction_leaf': 0.0, 'n_estimators': 100, 'n_jobs': 1, 'oob_score': False, 'random_state': 7, 'verbose': 0, 'warm_start': False}</td>\n",
       "      <td>3.7796</td>\n",
       "      <td>0.0000e+00</td>\n",
       "    </tr>\n",
       "    <tr>\n",
       "      <td>RandomForestClassifier_HT</td>\n",
       "      <td>6954</td>\n",
       "      <td>13</td>\n",
       "      <td>0.8684</td>\n",
       "      <td>{'class_weight': None, 'max_features': 0.777777778, 'min_samples_leaf': 0.0001438021282714984, 'min_samples_split': 0.0002876042565429968, 'n_estimators': 5}</td>\n",
       "      <td>0.2593</td>\n",
       "      <td>0.0000e+00</td>\n",
       "    </tr>\n",
       "    <tr>\n",
       "      <td>RandomForestClassifier_HT</td>\n",
       "      <td>6954</td>\n",
       "      <td>13</td>\n",
       "      <td>0.8684</td>\n",
       "      <td>{'class_weight': None, 'max_features': 0.7777870087692308, 'min_samples_leaf': 0.0001438021282714984, 'min_samples_split': 0.0002876042565429968, 'n_estimators': 5}</td>\n",
       "      <td>0.2559</td>\n",
       "      <td>0.0000e+00</td>\n",
       "    </tr>\n",
       "    <tr>\n",
       "      <td>RandomForestClassifier_MIClassification_FS</td>\n",
       "      <td>6954</td>\n",
       "      <td>5</td>\n",
       "      <td>0.8684</td>\n",
       "      <td>{'n_estimators': 100, 'class_weight': 'balanced', 'max_features': 0.777777778, 'min_samples_leaf': 0.000625, 'min_samples_split': 0.00125}</td>\n",
       "      <td>2.8129</td>\n",
       "      <td>0.0000e+00</td>\n",
       "    </tr>\n",
       "    <tr>\n",
       "      <td>RandomForestClassifier_AVGRanking_FS</td>\n",
       "      <td>6954</td>\n",
       "      <td>5</td>\n",
       "      <td>0.8661</td>\n",
       "      <td>{'n_estimators': 100, 'class_weight': 'balanced', 'max_features': 0.777777778, 'min_samples_leaf': 0.000625, 'min_samples_split': 0.00125}</td>\n",
       "      <td>2.6687</td>\n",
       "      <td>0.0000e+00</td>\n",
       "    </tr>\n",
       "    <tr>\n",
       "      <td>RandomForestClassifier_HT</td>\n",
       "      <td>6954</td>\n",
       "      <td>13</td>\n",
       "      <td>0.8658</td>\n",
       "      <td>{'class_weight': None, 'max_features': 0.07692307692307693, 'min_samples_leaf': 0.0001438021282714984, 'min_samples_split': 0.0012599971239574345, 'n_estimators': 5}</td>\n",
       "      <td>0.0993</td>\n",
       "      <td>0.0000e+00</td>\n",
       "    </tr>\n",
       "    <tr>\n",
       "      <td>RandomForestClassifier_HT</td>\n",
       "      <td>6954</td>\n",
       "      <td>13</td>\n",
       "      <td>0.8658</td>\n",
       "      <td>{'class_weight': None, 'max_features': 0.07692307692307693, 'min_samples_leaf': 0.0001438021282714984, 'min_samples_split': 0.00125, 'n_estimators': 5}</td>\n",
       "      <td>0.1021</td>\n",
       "      <td>0.0000e+00</td>\n",
       "    </tr>\n",
       "    <tr>\n",
       "      <td>RandomForestClassifier_RandomForestClassifier_FS</td>\n",
       "      <td>6954</td>\n",
       "      <td>4</td>\n",
       "      <td>0.8648</td>\n",
       "      <td>{'n_estimators': 100, 'class_weight': 'balanced', 'max_features': 0.777777778, 'min_samples_leaf': 0.000625, 'min_samples_split': 0.00125}</td>\n",
       "      <td>2.7896</td>\n",
       "      <td>0.0000e+00</td>\n",
       "    </tr>\n",
       "    <tr>\n",
       "      <td>RandomForestClassifier_MIClassification_FS</td>\n",
       "      <td>6954</td>\n",
       "      <td>4</td>\n",
       "      <td>0.8641</td>\n",
       "      <td>{'n_estimators': 100, 'class_weight': 'balanced', 'max_features': 0.777777778, 'min_samples_leaf': 0.000625, 'min_samples_split': 0.00125}</td>\n",
       "      <td>2.9242</td>\n",
       "      <td>0.0000e+00</td>\n",
       "    </tr>\n",
       "    <tr>\n",
       "      <td>RandomForestClassifier_ADS</td>\n",
       "      <td>2454</td>\n",
       "      <td>16</td>\n",
       "      <td>0.8634</td>\n",
       "      <td>{'bootstrap': True, 'ccp_alpha': 0.0, 'class_weight': 'balanced', 'criterion': 'gini', 'max_depth': None, 'max_features': 0.777777778, 'max_leaf_nodes': None, 'max_samples': None, 'min_impurity_decrease': 0.0, 'min_samples_leaf': 0.000625, 'min_samples_split': 0.00125, 'min_weight_fraction_leaf': 0.0, 'n_estimators': 100, 'n_jobs': 1, 'oob_score': False, 'random_state': 7, 'verbose': 0, 'warm_start': False}</td>\n",
       "      <td>3.4604</td>\n",
       "      <td>0.0000e+00</td>\n",
       "    </tr>\n",
       "    <tr>\n",
       "      <td>RandomForestClassifier_HT</td>\n",
       "      <td>6954</td>\n",
       "      <td>13</td>\n",
       "      <td>0.8628</td>\n",
       "      <td>{'class_weight': 'balanced', 'max_features': 0.07694153846153849, 'min_samples_leaf': 0.000625, 'min_samples_split': 0.00125, 'n_estimators': 100}</td>\n",
       "      <td>1.2649</td>\n",
       "      <td>0.0000e+00</td>\n",
       "    </tr>\n",
       "    <tr>\n",
       "      <td>RandomForestClassifier_HT</td>\n",
       "      <td>6954</td>\n",
       "      <td>13</td>\n",
       "      <td>0.8628</td>\n",
       "      <td>{'class_weight': 'balanced', 'max_features': 0.07693230769230772, 'min_samples_leaf': 0.000625, 'min_samples_split': 0.00125, 'n_estimators': 100}</td>\n",
       "      <td>1.2445</td>\n",
       "      <td>0.0000e+00</td>\n",
       "    </tr>\n",
       "    <tr>\n",
       "      <td>RandomForestClassifier_AdaBoostClassifier_FS</td>\n",
       "      <td>6954</td>\n",
       "      <td>4</td>\n",
       "      <td>0.8596</td>\n",
       "      <td>{'n_estimators': 100, 'class_weight': 'balanced', 'max_features': 0.777777778, 'min_samples_leaf': 0.000625, 'min_samples_split': 0.00125}</td>\n",
       "      <td>2.6962</td>\n",
       "      <td>0.0000e+00</td>\n",
       "    </tr>\n",
       "    <tr>\n",
       "      <td>RandomForestClassifier_ANOVAF_FS</td>\n",
       "      <td>6954</td>\n",
       "      <td>5</td>\n",
       "      <td>0.8588</td>\n",
       "      <td>{'n_estimators': 100, 'class_weight': 'balanced', 'max_features': 0.777777778, 'min_samples_leaf': 0.000625, 'min_samples_split': 0.00125}</td>\n",
       "      <td>2.3679</td>\n",
       "      <td>0.0000e+00</td>\n",
       "    </tr>\n",
       "    <tr>\n",
       "      <td>RandomForestClassifier_HT</td>\n",
       "      <td>6954</td>\n",
       "      <td>13</td>\n",
       "      <td>0.8555</td>\n",
       "      <td>{'class_weight': 'balanced', 'max_features': 0.777777778, 'min_samples_leaf': 0.000625, 'min_samples_split': 0.00125, 'n_estimators': 6}</td>\n",
       "      <td>0.2892</td>\n",
       "      <td>0.0000e+00</td>\n",
       "    </tr>\n",
       "    <tr>\n",
       "      <td>RandomForestClassifier_AVGRanking_FS</td>\n",
       "      <td>6954</td>\n",
       "      <td>4</td>\n",
       "      <td>0.8550</td>\n",
       "      <td>{'n_estimators': 100, 'class_weight': 'balanced', 'max_features': 0.777777778, 'min_samples_leaf': 0.000625, 'min_samples_split': 0.00125}</td>\n",
       "      <td>2.7387</td>\n",
       "      <td>0.0000e+00</td>\n",
       "    </tr>\n",
       "    <tr>\n",
       "      <td>RandomForestClassifier_HT</td>\n",
       "      <td>6954</td>\n",
       "      <td>13</td>\n",
       "      <td>0.8493</td>\n",
       "      <td>{'class_weight': 'balanced', 'max_features': 0.777777778, 'min_samples_leaf': 0.000625, 'min_samples_split': 0.00125, 'n_estimators': 5}</td>\n",
       "      <td>0.2425</td>\n",
       "      <td>0.0000e+00</td>\n",
       "    </tr>\n",
       "    <tr>\n",
       "      <td>RandomForestClassifier_MIClassification_FS</td>\n",
       "      <td>6954</td>\n",
       "      <td>3</td>\n",
       "      <td>0.8476</td>\n",
       "      <td>{'n_estimators': 100, 'class_weight': 'balanced', 'max_features': 0.777777778, 'min_samples_leaf': 0.000625, 'min_samples_split': 0.00125}</td>\n",
       "      <td>2.3295</td>\n",
       "      <td>0.0000e+00</td>\n",
       "    </tr>\n",
       "    <tr>\n",
       "      <td>DecisionTreeClassifier_AS</td>\n",
       "      <td>5000</td>\n",
       "      <td>16</td>\n",
       "      <td>0.8445</td>\n",
       "      <td>{'class_weight': None, 'max_features': 1.0, 'min_samples_leaf': 0.000625, 'min_samples_split': 0.00125}</td>\n",
       "      <td>0.1637</td>\n",
       "      <td>1.6785e-04</td>\n",
       "    </tr>\n",
       "    <tr>\n",
       "      <td>RandomForestClassifier_RandomForestClassifier_FS</td>\n",
       "      <td>6954</td>\n",
       "      <td>3</td>\n",
       "      <td>0.8407</td>\n",
       "      <td>{'n_estimators': 100, 'class_weight': 'balanced', 'max_features': 0.777777778, 'min_samples_leaf': 0.000625, 'min_samples_split': 0.00125}</td>\n",
       "      <td>2.1473</td>\n",
       "      <td>0.0000e+00</td>\n",
       "    </tr>\n",
       "    <tr>\n",
       "      <td>RandomForestClassifier_ADS</td>\n",
       "      <td>2000</td>\n",
       "      <td>16</td>\n",
       "      <td>0.8362</td>\n",
       "      <td>{'bootstrap': True, 'ccp_alpha': 0.0, 'class_weight': 'balanced', 'criterion': 'gini', 'max_depth': None, 'max_features': 0.777777778, 'max_leaf_nodes': None, 'max_samples': None, 'min_impurity_decrease': 0.0, 'min_samples_leaf': 0.000625, 'min_samples_split': 0.00125, 'min_weight_fraction_leaf': 0.0, 'n_estimators': 100, 'n_jobs': 1, 'oob_score': False, 'random_state': 7, 'verbose': 0, 'warm_start': False}</td>\n",
       "      <td>2.9715</td>\n",
       "      <td>0.0000e+00</td>\n",
       "    </tr>\n",
       "    <tr>\n",
       "      <td>RandomForestClassifier_AdaBoostClassifier_FS</td>\n",
       "      <td>6954</td>\n",
       "      <td>3</td>\n",
       "      <td>0.8348</td>\n",
       "      <td>{'n_estimators': 100, 'class_weight': 'balanced', 'max_features': 0.777777778, 'min_samples_leaf': 0.000625, 'min_samples_split': 0.00125}</td>\n",
       "      <td>2.3253</td>\n",
       "      <td>0.0000e+00</td>\n",
       "    </tr>\n",
       "    <tr>\n",
       "      <td>RandomForestClassifier_ANOVAF_FS</td>\n",
       "      <td>6954</td>\n",
       "      <td>4</td>\n",
       "      <td>0.8292</td>\n",
       "      <td>{'n_estimators': 100, 'class_weight': 'balanced', 'max_features': 0.777777778, 'min_samples_leaf': 0.000625, 'min_samples_split': 0.00125}</td>\n",
       "      <td>2.0641</td>\n",
       "      <td>0.0000e+00</td>\n",
       "    </tr>\n",
       "    <tr>\n",
       "      <td>RandomForestClassifier_HT</td>\n",
       "      <td>6954</td>\n",
       "      <td>13</td>\n",
       "      <td>0.8195</td>\n",
       "      <td>{'class_weight': None, 'max_features': 0.07692307692307693, 'min_samples_leaf': 0.0006299985619787172, 'min_samples_split': 0.0002876042565429968, 'n_estimators': 5}</td>\n",
       "      <td>0.0863</td>\n",
       "      <td>0.0000e+00</td>\n",
       "    </tr>\n",
       "    <tr>\n",
       "      <td>RandomForestClassifier_HT</td>\n",
       "      <td>6954</td>\n",
       "      <td>13</td>\n",
       "      <td>0.8195</td>\n",
       "      <td>{'class_weight': None, 'max_features': 0.07692307692307693, 'min_samples_leaf': 0.000625, 'min_samples_split': 0.0002876042565429968, 'n_estimators': 5}</td>\n",
       "      <td>0.0962</td>\n",
       "      <td>0.0000e+00</td>\n",
       "    </tr>\n",
       "    <tr>\n",
       "      <td>RandomForestClassifier_AdaBoostClassifier_FS</td>\n",
       "      <td>6954</td>\n",
       "      <td>2</td>\n",
       "      <td>0.8062</td>\n",
       "      <td>{'n_estimators': 100, 'class_weight': 'balanced', 'max_features': 0.777777778, 'min_samples_leaf': 0.000625, 'min_samples_split': 0.00125}</td>\n",
       "      <td>1.6291</td>\n",
       "      <td>0.0000e+00</td>\n",
       "    </tr>\n",
       "    <tr>\n",
       "      <td>RandomForestClassifier_HT</td>\n",
       "      <td>6954</td>\n",
       "      <td>13</td>\n",
       "      <td>0.7925</td>\n",
       "      <td>{'class_weight': None, 'max_features': 0.07692307692307693, 'min_samples_leaf': 0.0011329120873672025, 'min_samples_split': 0.0002876042565429968, 'n_estimators': 5}</td>\n",
       "      <td>0.0951</td>\n",
       "      <td>0.0000e+00</td>\n",
       "    </tr>\n",
       "    <tr>\n",
       "      <td>RandomForestClassifier_HT</td>\n",
       "      <td>6954</td>\n",
       "      <td>13</td>\n",
       "      <td>0.7925</td>\n",
       "      <td>{'class_weight': None, 'max_features': 0.07692307692307693, 'min_samples_leaf': 0.0011379106493459197, 'min_samples_split': 0.0002876042565429968, 'n_estimators': 5}</td>\n",
       "      <td>0.0913</td>\n",
       "      <td>0.0000e+00</td>\n",
       "    </tr>\n",
       "    <tr>\n",
       "      <td>RandomForestClassifier_ANOVAF_FS</td>\n",
       "      <td>6954</td>\n",
       "      <td>3</td>\n",
       "      <td>0.7761</td>\n",
       "      <td>{'n_estimators': 100, 'class_weight': 'balanced', 'max_features': 0.777777778, 'min_samples_leaf': 0.000625, 'min_samples_split': 0.00125}</td>\n",
       "      <td>1.5928</td>\n",
       "      <td>0.0000e+00</td>\n",
       "    </tr>\n",
       "    <tr>\n",
       "      <td>RandomForestClassifier_HT</td>\n",
       "      <td>6954</td>\n",
       "      <td>13</td>\n",
       "      <td>0.7703</td>\n",
       "      <td>{'class_weight': 'balanced', 'max_features': 0.777777778, 'min_samples_leaf': 0.000625, 'min_samples_split': 0.017251126934215967, 'n_estimators': 100}</td>\n",
       "      <td>3.5281</td>\n",
       "      <td>0.0000e+00</td>\n",
       "    </tr>\n",
       "    <tr>\n",
       "      <td>RandomForestClassifier_HT</td>\n",
       "      <td>6954</td>\n",
       "      <td>13</td>\n",
       "      <td>0.7703</td>\n",
       "      <td>{'class_weight': 'balanced', 'max_features': 0.777777778, 'min_samples_leaf': 0.000625, 'min_samples_split': 0.017261124058173403, 'n_estimators': 100}</td>\n",
       "      <td>3.5431</td>\n",
       "      <td>0.0000e+00</td>\n",
       "    </tr>\n",
       "    <tr>\n",
       "      <td>RandomForestClassifier_ANOVAF_FS</td>\n",
       "      <td>6954</td>\n",
       "      <td>2</td>\n",
       "      <td>0.7673</td>\n",
       "      <td>{'n_estimators': 100, 'class_weight': 'balanced', 'max_features': 0.777777778, 'min_samples_leaf': 0.000625, 'min_samples_split': 0.00125}</td>\n",
       "      <td>1.3317</td>\n",
       "      <td>0.0000e+00</td>\n",
       "    </tr>\n",
       "    <tr>\n",
       "      <td>RandomForestClassifier_HT</td>\n",
       "      <td>6954</td>\n",
       "      <td>13</td>\n",
       "      <td>0.7391</td>\n",
       "      <td>{'class_weight': 'balanced', 'max_features': 0.777777778, 'min_samples_leaf': 0.008625563467107982, 'min_samples_split': 0.00125, 'n_estimators': 100}</td>\n",
       "      <td>3.0469</td>\n",
       "      <td>0.0000e+00</td>\n",
       "    </tr>\n",
       "    <tr>\n",
       "      <td>RandomForestClassifier_HT</td>\n",
       "      <td>6954</td>\n",
       "      <td>13</td>\n",
       "      <td>0.7391</td>\n",
       "      <td>{'class_weight': 'balanced', 'max_features': 0.777777778, 'min_samples_leaf': 0.0086305620290867, 'min_samples_split': 0.00125, 'n_estimators': 100}</td>\n",
       "      <td>3.0206</td>\n",
       "      <td>0.0000e+00</td>\n",
       "    </tr>\n",
       "    <tr>\n",
       "      <td>SVC_AS</td>\n",
       "      <td>5000</td>\n",
       "      <td>16</td>\n",
       "      <td>0.7282</td>\n",
       "      <td>{'C': 1.0, 'class_weight': 'balanced', 'gamma': 'scale'}</td>\n",
       "      <td>36.3713</td>\n",
       "      <td>8.2550e-02</td>\n",
       "    </tr>\n",
       "    <tr>\n",
       "      <td>RandomForestClassifier_HT</td>\n",
       "      <td>6954</td>\n",
       "      <td>13</td>\n",
       "      <td>0.7197</td>\n",
       "      <td>{'class_weight': None, 'max_features': 0.07692307692307693, 'min_samples_leaf': 0.0001438021282714984, 'min_samples_split': 0.017261124058173403, 'n_estimators': 5}</td>\n",
       "      <td>0.0831</td>\n",
       "      <td>0.0000e+00</td>\n",
       "    </tr>\n",
       "    <tr>\n",
       "      <td>RandomForestClassifier_HT</td>\n",
       "      <td>6954</td>\n",
       "      <td>13</td>\n",
       "      <td>0.7197</td>\n",
       "      <td>{'class_weight': None, 'max_features': 0.07692307692307693, 'min_samples_leaf': 0.0001438021282714984, 'min_samples_split': 0.017251126934215967, 'n_estimators': 5}</td>\n",
       "      <td>0.0805</td>\n",
       "      <td>0.0000e+00</td>\n",
       "    </tr>\n",
       "    <tr>\n",
       "      <td>RandomForestClassifier_HT</td>\n",
       "      <td>6954</td>\n",
       "      <td>13</td>\n",
       "      <td>0.6836</td>\n",
       "      <td>{'class_weight': None, 'max_features': 0.07692307692307693, 'min_samples_leaf': 0.008625563467107982, 'min_samples_split': 0.0002876042565429968, 'n_estimators': 5}</td>\n",
       "      <td>0.0876</td>\n",
       "      <td>0.0000e+00</td>\n",
       "    </tr>\n",
       "    <tr>\n",
       "      <td>RandomForestClassifier_HT</td>\n",
       "      <td>6954</td>\n",
       "      <td>13</td>\n",
       "      <td>0.6836</td>\n",
       "      <td>{'class_weight': None, 'max_features': 0.07692307692307693, 'min_samples_leaf': 0.0086305620290867, 'min_samples_split': 0.0002876042565429968, 'n_estimators': 5}</td>\n",
       "      <td>0.0857</td>\n",
       "      <td>0.0000e+00</td>\n",
       "    </tr>\n",
       "    <tr>\n",
       "      <td>RandomForestClassifier_AdaBoostClassifier_FS</td>\n",
       "      <td>6954</td>\n",
       "      <td>1</td>\n",
       "      <td>0.6819</td>\n",
       "      <td>{'n_estimators': 100, 'class_weight': 'balanced', 'max_features': 0.777777778, 'min_samples_leaf': 0.000625, 'min_samples_split': 0.00125}</td>\n",
       "      <td>1.9841</td>\n",
       "      <td>0.0000e+00</td>\n",
       "    </tr>\n",
       "    <tr>\n",
       "      <td>RandomForestClassifier_HT</td>\n",
       "      <td>6954</td>\n",
       "      <td>13</td>\n",
       "      <td>0.6803</td>\n",
       "      <td>{'class_weight': 'balanced', 'max_features': 0.777777778, 'min_samples_leaf': 0.029396030102608273, 'min_samples_split': 0.00125, 'n_estimators': 253}</td>\n",
       "      <td>5.4312</td>\n",
       "      <td>0.0000e+00</td>\n",
       "    </tr>\n",
       "    <tr>\n",
       "      <td>LogisticRegression_AS</td>\n",
       "      <td>5000</td>\n",
       "      <td>16</td>\n",
       "      <td>0.6795</td>\n",
       "      <td>{'C': 1.0, 'class_weight': 'balanced', 'solver': 'liblinear'}</td>\n",
       "      <td>0.0876</td>\n",
       "      <td>0.0000e+00</td>\n",
       "    </tr>\n",
       "    <tr>\n",
       "      <td>RandomForestClassifier_HT</td>\n",
       "      <td>6954</td>\n",
       "      <td>13</td>\n",
       "      <td>0.6773</td>\n",
       "      <td>{'class_weight': None, 'max_features': 0.777777778, 'min_samples_leaf': 0.000625, 'min_samples_split': 0.12408168931576098, 'n_estimators': 100}</td>\n",
       "      <td>1.9247</td>\n",
       "      <td>0.0000e+00</td>\n",
       "    </tr>\n",
       "    <tr>\n",
       "      <td>RandomForestClassifier_HT</td>\n",
       "      <td>6954</td>\n",
       "      <td>13</td>\n",
       "      <td>0.6773</td>\n",
       "      <td>{'class_weight': None, 'max_features': 0.777777778, 'min_samples_leaf': 0.000625, 'min_samples_split': 0.12409168643971842, 'n_estimators': 100}</td>\n",
       "      <td>1.9012</td>\n",
       "      <td>0.0000e+00</td>\n",
       "    </tr>\n",
       "    <tr>\n",
       "      <td>RandomForestClassifier_HT</td>\n",
       "      <td>6954</td>\n",
       "      <td>13</td>\n",
       "      <td>0.6754</td>\n",
       "      <td>{'class_weight': 'balanced', 'max_features': 0.777777778, 'min_samples_leaf': 0.000625, 'min_samples_split': 0.1313435454608104, 'n_estimators': 100}</td>\n",
       "      <td>1.8170</td>\n",
       "      <td>0.0000e+00</td>\n",
       "    </tr>\n",
       "    <tr>\n",
       "      <td>RandomForestClassifier_HT</td>\n",
       "      <td>6954</td>\n",
       "      <td>13</td>\n",
       "      <td>0.6749</td>\n",
       "      <td>{'class_weight': None, 'max_features': 0.777777778, 'min_samples_leaf': 0.000625, 'min_samples_split': 0.1304625562932031, 'n_estimators': 100}</td>\n",
       "      <td>1.8328</td>\n",
       "      <td>0.0000e+00</td>\n",
       "    </tr>\n",
       "    <tr>\n",
       "      <td>RandomForestClassifier_HT</td>\n",
       "      <td>6954</td>\n",
       "      <td>13</td>\n",
       "      <td>0.6749</td>\n",
       "      <td>{'class_weight': None, 'max_features': 0.777777778, 'min_samples_leaf': 0.000625, 'min_samples_split': 0.13047255341716055, 'n_estimators': 100}</td>\n",
       "      <td>1.8329</td>\n",
       "      <td>0.0000e+00</td>\n",
       "    </tr>\n",
       "    <tr>\n",
       "      <td>RandomForestClassifier_HT</td>\n",
       "      <td>6954</td>\n",
       "      <td>13</td>\n",
       "      <td>0.6746</td>\n",
       "      <td>{'class_weight': 'balanced', 'max_features': 0.777777778, 'min_samples_leaf': 0.000625, 'min_samples_split': 0.13135354258476784, 'n_estimators': 100}</td>\n",
       "      <td>1.8450</td>\n",
       "      <td>0.0000e+00</td>\n",
       "    </tr>\n",
       "    <tr>\n",
       "      <td>RandomForestClassifier_HT</td>\n",
       "      <td>6954</td>\n",
       "      <td>13</td>\n",
       "      <td>0.6680</td>\n",
       "      <td>{'class_weight': None, 'max_features': 0.07692307692307693, 'min_samples_leaf': 0.0001438021282714984, 'min_samples_split': 0.38065381323669234, 'n_estimators': 252}</td>\n",
       "      <td>1.7270</td>\n",
       "      <td>0.0000e+00</td>\n",
       "    </tr>\n",
       "    <tr>\n",
       "      <td>RandomForestClassifier_HT</td>\n",
       "      <td>6954</td>\n",
       "      <td>13</td>\n",
       "      <td>0.6613</td>\n",
       "      <td>{'class_weight': None, 'max_features': 0.07692307692307693, 'min_samples_leaf': 0.0001438021282714984, 'min_samples_split': 0.1313435454608104, 'n_estimators': 5}</td>\n",
       "      <td>0.0702</td>\n",
       "      <td>0.0000e+00</td>\n",
       "    </tr>\n",
       "    <tr>\n",
       "      <td>RandomForestClassifier_HT</td>\n",
       "      <td>6954</td>\n",
       "      <td>13</td>\n",
       "      <td>0.6613</td>\n",
       "      <td>{'class_weight': None, 'max_features': 0.07692307692307693, 'min_samples_leaf': 0.0001438021282714984, 'min_samples_split': 0.13135354258476784, 'n_estimators': 5}</td>\n",
       "      <td>0.0662</td>\n",
       "      <td>0.0000e+00</td>\n",
       "    </tr>\n",
       "    <tr>\n",
       "      <td>RandomForestClassifier_ANOVAF_FS</td>\n",
       "      <td>6954</td>\n",
       "      <td>1</td>\n",
       "      <td>0.6431</td>\n",
       "      <td>{'n_estimators': 100, 'class_weight': 'balanced', 'max_features': 0.777777778, 'min_samples_leaf': 0.000625, 'min_samples_split': 0.00125}</td>\n",
       "      <td>0.9146</td>\n",
       "      <td>0.0000e+00</td>\n",
       "    </tr>\n",
       "  </tbody>\n",
       "</table>"
      ],
      "text/plain": [
       "<IPython.core.display.HTML object>"
      ]
     },
     "metadata": {},
     "output_type": "display_data"
    }
   ],
   "source": [
    "oracle_automl.print_trials()"
   ]
  },
  {
   "cell_type": "code",
   "execution_count": 33,
   "id": "1742849d-f367-4fe3-a9c7-4142de44c02a",
   "metadata": {
    "tags": []
   },
   "outputs": [
    {
     "data": {
      "text/html": [
       "<table border=\"1\" class=\"dataframe\">\n",
       "  <thead>\n",
       "    <tr style=\"text-align: right;\">\n",
       "      <th>Algorithm</th>\n",
       "      <th>#Samples</th>\n",
       "      <th>#Features</th>\n",
       "      <th>Mean Validation Score</th>\n",
       "      <th>Hyperparameters</th>\n",
       "      <th>CPU Time</th>\n",
       "      <th>Memory Usage (GB)</th>\n",
       "    </tr>\n",
       "  </thead>\n",
       "  <tbody>\n",
       "    <tr>\n",
       "      <td>RandomForestClassifier_HT</td>\n",
       "      <td>6954</td>\n",
       "      <td>13</td>\n",
       "      <td>0.9359</td>\n",
       "      <td>{'class_weight': 'balanced_subsample', 'max_features': 0.07692307692307693, 'min_samples_leaf': 0.0001438021282714984, 'min_samples_split': 0.0002876042565429968, 'n_estimators': 252}</td>\n",
       "      <td>4.4824</td>\n",
       "      <td>0.0000</td>\n",
       "    </tr>\n",
       "    <tr>\n",
       "      <td>RandomForestClassifier_HT</td>\n",
       "      <td>6954</td>\n",
       "      <td>13</td>\n",
       "      <td>0.9350</td>\n",
       "      <td>{'class_weight': 'balanced_subsample', 'max_features': 0.07692307692307693, 'min_samples_leaf': 0.0001438021282714984, 'min_samples_split': 0.0002876042565429968, 'n_estimators': 253}</td>\n",
       "      <td>4.6360</td>\n",
       "      <td>0.0000</td>\n",
       "    </tr>\n",
       "    <tr>\n",
       "      <td>RandomForestClassifier_HT</td>\n",
       "      <td>6954</td>\n",
       "      <td>13</td>\n",
       "      <td>0.9344</td>\n",
       "      <td>{'class_weight': 'balanced', 'max_features': 0.07692307692307693, 'min_samples_leaf': 0.0001438021282714984, 'min_samples_split': 0.0002876042565429968, 'n_estimators': 252}</td>\n",
       "      <td>3.5040</td>\n",
       "      <td>0.0000</td>\n",
       "    </tr>\n",
       "    <tr>\n",
       "      <td>RandomForestClassifier_HT</td>\n",
       "      <td>6954</td>\n",
       "      <td>13</td>\n",
       "      <td>0.9344</td>\n",
       "      <td>{'class_weight': None, 'max_features': 0.07692307692307693, 'min_samples_leaf': 0.0001438021282714984, 'min_samples_split': 0.0002876042565429968, 'n_estimators': 252}</td>\n",
       "      <td>3.5516</td>\n",
       "      <td>0.0000</td>\n",
       "    </tr>\n",
       "    <tr>\n",
       "      <td>RandomForestClassifier_HT</td>\n",
       "      <td>6954</td>\n",
       "      <td>13</td>\n",
       "      <td>0.9336</td>\n",
       "      <td>{'class_weight': None, 'max_features': 0.07692307692307693, 'min_samples_leaf': 0.0001438021282714984, 'min_samples_split': 0.0002876042565429968, 'n_estimators': 253}</td>\n",
       "      <td>3.5705</td>\n",
       "      <td>0.0000</td>\n",
       "    </tr>\n",
       "    <tr>\n",
       "      <td>RandomForestClassifier_HT</td>\n",
       "      <td>6954</td>\n",
       "      <td>13</td>\n",
       "      <td>0.9321</td>\n",
       "      <td>{'class_weight': None, 'max_features': 0.07692307692307693, 'min_samples_leaf': 0.0001438021282714984, 'min_samples_split': 0.0002876042565429968, 'n_estimators': 24}</td>\n",
       "      <td>0.3512</td>\n",
       "      <td>0.0000</td>\n",
       "    </tr>\n",
       "    <tr>\n",
       "      <td>RandomForestClassifier_HT</td>\n",
       "      <td>6954</td>\n",
       "      <td>13</td>\n",
       "      <td>0.9308</td>\n",
       "      <td>{'class_weight': None, 'max_features': 0.07692307692307693, 'min_samples_leaf': 0.0001438021282714984, 'min_samples_split': 0.0002876042565429968, 'n_estimators': 100}</td>\n",
       "      <td>1.4201</td>\n",
       "      <td>0.0000</td>\n",
       "    </tr>\n",
       "    <tr>\n",
       "      <td>RandomForestClassifier_HT</td>\n",
       "      <td>6954</td>\n",
       "      <td>13</td>\n",
       "      <td>0.9294</td>\n",
       "      <td>{'class_weight': None, 'max_features': 0.07692307692307693, 'min_samples_leaf': 0.0001438021282714984, 'min_samples_split': 0.0002876042565429968, 'n_estimators': 20}</td>\n",
       "      <td>0.2986</td>\n",
       "      <td>0.0000</td>\n",
       "    </tr>\n",
       "    <tr>\n",
       "      <td>RandomForestClassifier_HT</td>\n",
       "      <td>6954</td>\n",
       "      <td>13</td>\n",
       "      <td>0.9287</td>\n",
       "      <td>{'class_weight': None, 'max_features': 0.07692307692307693, 'min_samples_leaf': 0.0001438021282714984, 'min_samples_split': 0.0002876042565429968, 'n_estimators': 101}</td>\n",
       "      <td>1.3871</td>\n",
       "      <td>0.0000</td>\n",
       "    </tr>\n",
       "    <tr>\n",
       "      <td>RandomForestClassifier_AS</td>\n",
       "      <td>5000</td>\n",
       "      <td>16</td>\n",
       "      <td>0.9272</td>\n",
       "      <td>{'n_estimators': 100, 'class_weight': 'balanced', 'max_features': 0.777777778, 'min_samples_leaf': 0.000625, 'min_samples_split': 0.00125}</td>\n",
       "      <td>6.7087</td>\n",
       "      <td>0.0074</td>\n",
       "    </tr>\n",
       "    <tr>\n",
       "      <td>...</td>\n",
       "      <td>...</td>\n",
       "      <td>...</td>\n",
       "      <td>...</td>\n",
       "      <td>...</td>\n",
       "      <td>...</td>\n",
       "      <td>...</td>\n",
       "    </tr>\n",
       "    <tr>\n",
       "      <td>RandomForestClassifier_HT</td>\n",
       "      <td>6954</td>\n",
       "      <td>13</td>\n",
       "      <td>0.6773</td>\n",
       "      <td>{'class_weight': None, 'max_features': 0.777777778, 'min_samples_leaf': 0.000625, 'min_samples_split': 0.12408168931576098, 'n_estimators': 100}</td>\n",
       "      <td>1.9247</td>\n",
       "      <td>0.0000</td>\n",
       "    </tr>\n",
       "    <tr>\n",
       "      <td>RandomForestClassifier_HT</td>\n",
       "      <td>6954</td>\n",
       "      <td>13</td>\n",
       "      <td>0.6773</td>\n",
       "      <td>{'class_weight': None, 'max_features': 0.777777778, 'min_samples_leaf': 0.000625, 'min_samples_split': 0.12409168643971842, 'n_estimators': 100}</td>\n",
       "      <td>1.9012</td>\n",
       "      <td>0.0000</td>\n",
       "    </tr>\n",
       "    <tr>\n",
       "      <td>RandomForestClassifier_HT</td>\n",
       "      <td>6954</td>\n",
       "      <td>13</td>\n",
       "      <td>0.6754</td>\n",
       "      <td>{'class_weight': 'balanced', 'max_features': 0.777777778, 'min_samples_leaf': 0.000625, 'min_samples_split': 0.1313435454608104, 'n_estimators': 100}</td>\n",
       "      <td>1.8170</td>\n",
       "      <td>0.0000</td>\n",
       "    </tr>\n",
       "    <tr>\n",
       "      <td>RandomForestClassifier_HT</td>\n",
       "      <td>6954</td>\n",
       "      <td>13</td>\n",
       "      <td>0.6749</td>\n",
       "      <td>{'class_weight': None, 'max_features': 0.777777778, 'min_samples_leaf': 0.000625, 'min_samples_split': 0.1304625562932031, 'n_estimators': 100}</td>\n",
       "      <td>1.8328</td>\n",
       "      <td>0.0000</td>\n",
       "    </tr>\n",
       "    <tr>\n",
       "      <td>RandomForestClassifier_HT</td>\n",
       "      <td>6954</td>\n",
       "      <td>13</td>\n",
       "      <td>0.6749</td>\n",
       "      <td>{'class_weight': None, 'max_features': 0.777777778, 'min_samples_leaf': 0.000625, 'min_samples_split': 0.13047255341716055, 'n_estimators': 100}</td>\n",
       "      <td>1.8329</td>\n",
       "      <td>0.0000</td>\n",
       "    </tr>\n",
       "    <tr>\n",
       "      <td>RandomForestClassifier_HT</td>\n",
       "      <td>6954</td>\n",
       "      <td>13</td>\n",
       "      <td>0.6746</td>\n",
       "      <td>{'class_weight': 'balanced', 'max_features': 0.777777778, 'min_samples_leaf': 0.000625, 'min_samples_split': 0.13135354258476784, 'n_estimators': 100}</td>\n",
       "      <td>1.8450</td>\n",
       "      <td>0.0000</td>\n",
       "    </tr>\n",
       "    <tr>\n",
       "      <td>RandomForestClassifier_HT</td>\n",
       "      <td>6954</td>\n",
       "      <td>13</td>\n",
       "      <td>0.6680</td>\n",
       "      <td>{'class_weight': None, 'max_features': 0.07692307692307693, 'min_samples_leaf': 0.0001438021282714984, 'min_samples_split': 0.38065381323669234, 'n_estimators': 252}</td>\n",
       "      <td>1.7270</td>\n",
       "      <td>0.0000</td>\n",
       "    </tr>\n",
       "    <tr>\n",
       "      <td>RandomForestClassifier_HT</td>\n",
       "      <td>6954</td>\n",
       "      <td>13</td>\n",
       "      <td>0.6613</td>\n",
       "      <td>{'class_weight': None, 'max_features': 0.07692307692307693, 'min_samples_leaf': 0.0001438021282714984, 'min_samples_split': 0.1313435454608104, 'n_estimators': 5}</td>\n",
       "      <td>0.0702</td>\n",
       "      <td>0.0000</td>\n",
       "    </tr>\n",
       "    <tr>\n",
       "      <td>RandomForestClassifier_HT</td>\n",
       "      <td>6954</td>\n",
       "      <td>13</td>\n",
       "      <td>0.6613</td>\n",
       "      <td>{'class_weight': None, 'max_features': 0.07692307692307693, 'min_samples_leaf': 0.0001438021282714984, 'min_samples_split': 0.13135354258476784, 'n_estimators': 5}</td>\n",
       "      <td>0.0662</td>\n",
       "      <td>0.0000</td>\n",
       "    </tr>\n",
       "    <tr>\n",
       "      <td>RandomForestClassifier_ANOVAF_FS</td>\n",
       "      <td>6954</td>\n",
       "      <td>1</td>\n",
       "      <td>0.6431</td>\n",
       "      <td>{'n_estimators': 100, 'class_weight': 'balanced', 'max_features': 0.777777778, 'min_samples_leaf': 0.000625, 'min_samples_split': 0.00125}</td>\n",
       "      <td>0.9146</td>\n",
       "      <td>0.0000</td>\n",
       "    </tr>\n",
       "  </tbody>\n",
       "</table>"
      ],
      "text/plain": [
       "<IPython.core.display.HTML object>"
      ]
     },
     "metadata": {},
     "output_type": "display_data"
    }
   ],
   "source": [
    "oracle_automl.print_trials(max_rows=20, sort_column='Mean Validation Score')"
   ]
  },
  {
   "cell_type": "code",
   "execution_count": 34,
   "id": "bdcac896-fc27-4a52-af8c-24305cc12f0b",
   "metadata": {
    "tags": []
   },
   "outputs": [
    {
     "data": {
      "image/png": "[encoded data removed]",
      "text/plain": [
       "<Figure size 864x432 with 1 Axes>"
      ]
     },
     "metadata": {},
     "output_type": "display_data"
    }
   ],
   "source": [
    "oracle_automl.visualize_algorithm_selection_trials()"
   ]
  },
  {
   "cell_type": "code",
   "execution_count": 35,
   "id": "bca848ed-2912-4d4a-8703-0b0418901796",
   "metadata": {
    "tags": []
   },
   "outputs": [
    {
     "data": {
      "text/html": [
       "<table border=\"1\" class=\"dataframe\">\n",
       "  <tbody>\n",
       "    <tr>\n",
       "      <td>Model Name</td>\n",
       "      <td>AutoML Classifier</td>\n",
       "    </tr>\n",
       "    <tr>\n",
       "      <td>Target Variable</td>\n",
       "      <td>TenYearCHD</td>\n",
       "    </tr>\n",
       "    <tr>\n",
       "      <td>Selected Algorithm</td>\n",
       "      <td>RandomForestClassifier</td>\n",
       "    </tr>\n",
       "    <tr>\n",
       "      <td>Task</td>\n",
       "      <td>classification</td>\n",
       "    </tr>\n",
       "    <tr>\n",
       "      <td>Training Dataset Size</td>\n",
       "      <td>(6954, 16)</td>\n",
       "    </tr>\n",
       "    <tr>\n",
       "      <td>CV</td>\n",
       "      <td>5</td>\n",
       "    </tr>\n",
       "    <tr>\n",
       "      <td>Optimization Metric</td>\n",
       "      <td>accuracy</td>\n",
       "    </tr>\n",
       "    <tr>\n",
       "      <td>Selected Hyperparameters</td>\n",
       "      <td>{'bootstrap': True, 'ccp_alpha': 0.0, 'class_weight': 'balanced_subsample', 'criterion': 'gini', 'max_depth': None, 'max_features': 0.07692307692307693, 'max_leaf_nodes': None, 'max_samples': None, 'min_impurity_decrease': 0.0, 'min_samples_leaf': 0.0001438021282714984, 'min_samples_split': 0.0002876042565429968, 'min_weight_fraction_leaf': 0.0, 'n_estimators': 252, 'n_jobs': 16, 'oob_score': False, 'random_state': 7, 'verbose': 0, 'warm_start': False}</td>\n",
       "    </tr>\n",
       "    <tr>\n",
       "      <td>Initial Number of Features</td>\n",
       "      <td>16</td>\n",
       "    </tr>\n",
       "    <tr>\n",
       "      <td>Initial Features</td>\n",
       "      <td>Index(['male', 'age', 'education', 'currentSmoker', 'cigsPerDay', 'BPMeds',\n",
       "       'prevalentStroke', 'prevalentHyp', 'diabetes', 'totChol', 'sysBP',\n",
       "       'diaBP', 'BMI', 'heartRate', 'glucose', 'fumante_categorico'],\n",
       "      dtype='object')</td>\n",
       "    </tr>\n",
       "    <tr>\n",
       "      <td>Selected Number of Features</td>\n",
       "      <td>13</td>\n",
       "    </tr>\n",
       "    <tr>\n",
       "      <td>Selected Features</td>\n",
       "      <td>Index(['male', 'age', 'education', 'cigsPerDay', 'prevalentHyp', 'diabetes',\n",
       "       'totChol', 'sysBP', 'diaBP', 'BMI', 'heartRate', 'glucose',\n",
       "       'fumante_categorico'],\n",
       "      dtype='object')</td>\n",
       "    </tr>\n",
       "  </tbody>\n",
       "</table>"
      ],
      "text/plain": [
       "<IPython.core.display.HTML object>"
      ]
     },
     "metadata": {},
     "output_type": "display_data"
    },
    {
     "data": {
      "text/plain": [
       "[['Model Name', 'AutoML Classifier'],\n",
       " ['Target Variable', 'TenYearCHD'],\n",
       " ['Selected Algorithm', 'RandomForestClassifier'],\n",
       " ['Task', 'classification'],\n",
       " ['Training Dataset Size', (6954, 16)],\n",
       " ['CV', 5],\n",
       " ['Optimization Metric', 'accuracy'],\n",
       " ['Selected Hyperparameters',\n",
       "  {'bootstrap': True,\n",
       "   'ccp_alpha': 0.0,\n",
       "   'class_weight': 'balanced_subsample',\n",
       "   'criterion': 'gini',\n",
       "   'max_depth': None,\n",
       "   'max_features': 0.07692307692307693,\n",
       "   'max_leaf_nodes': None,\n",
       "   'max_samples': None,\n",
       "   'min_impurity_decrease': 0.0,\n",
       "   'min_samples_leaf': 0.0001438021282714984,\n",
       "   'min_samples_split': 0.0002876042565429968,\n",
       "   'min_weight_fraction_leaf': 0.0,\n",
       "   'n_estimators': 252,\n",
       "   'n_jobs': 16,\n",
       "   'oob_score': False,\n",
       "   'random_state': 7,\n",
       "   'verbose': 0,\n",
       "   'warm_start': False}],\n",
       " ['Initial Number of Features', 16],\n",
       " ['Initial Features',\n",
       "  Index(['male', 'age', 'education', 'currentSmoker', 'cigsPerDay', 'BPMeds',\n",
       "         'prevalentStroke', 'prevalentHyp', 'diabetes', 'totChol', 'sysBP',\n",
       "         'diaBP', 'BMI', 'heartRate', 'glucose', 'fumante_categorico'],\n",
       "        dtype='object')],\n",
       " ['Selected Number of Features', 13],\n",
       " ['Selected Features',\n",
       "  Index(['male', 'age', 'education', 'cigsPerDay', 'prevalentHyp', 'diabetes',\n",
       "         'totChol', 'sysBP', 'diaBP', 'BMI', 'heartRate', 'glucose',\n",
       "         'fumante_categorico'],\n",
       "        dtype='object')]]"
      ]
     },
     "execution_count": 35,
     "metadata": {},
     "output_type": "execute_result"
    }
   ],
   "source": [
    "automl_model1.show_in_notebook()"
   ]
  },
  {
   "cell_type": "code",
   "execution_count": 36,
   "id": "1c142a86-bc32-45ac-8158-855ba1e9ca77",
   "metadata": {
    "tags": []
   },
   "outputs": [
    {
     "name": "stdout",
     "output_type": "stream",
     "text": [
      "WARNING:py.warnings:/home/datascience/conda/generalml_p37_cpu_v1/lib/python3.7/site-packages/ads/automl/provider.py:796: UserWarning: color is redundantly defined by the 'color' keyword argument and the fmt string \"k:\" (-> color='k'). The keyword argument will take precedence.\n",
      "  ax.plot(n_features, scores, \"k:\", marker=\"s\", color=\"teal\", markersize=3)\n",
      "\n"
     ]
    },
    {
     "data": {
      "image/png": "[encoded data removed]",
      "text/plain": [
       "<Figure size 864x432 with 1 Axes>"
      ]
     },
     "metadata": {},
     "output_type": "display_data"
    }
   ],
   "source": [
    "oracle_automl.visualize_feature_selection_trials()"
   ]
  },
  {
   "cell_type": "code",
   "execution_count": 37,
   "id": "bebc8dc6-a456-4368-ad99-c7fc27b3a976",
   "metadata": {
    "tags": []
   },
   "outputs": [
    {
     "data": {
      "text/plain": [
       "Index(['male', 'age', 'education', 'cigsPerDay', 'prevalentHyp', 'diabetes',\n",
       "       'totChol', 'sysBP', 'diaBP', 'BMI', 'heartRate', 'glucose',\n",
       "       'fumante_categorico'],\n",
       "      dtype='object')"
      ]
     },
     "execution_count": 37,
     "metadata": {},
     "output_type": "execute_result"
    }
   ],
   "source": [
    "automl_model1.feature_names()"
   ]
  },
  {
   "cell_type": "code",
   "execution_count": 40,
   "id": "5de6065d-461e-4331-9338-08008e960d5b",
   "metadata": {
    "tags": []
   },
   "outputs": [],
   "source": [
    "train,test = ds_tratado[['male', 'age', 'education', 'cigsPerDay', 'prevalentHyp', 'diabetes',\n",
    "       'totChol', 'sysBP', 'diaBP', 'BMI', 'heartRate', 'glucose',\n",
    "       'fumante_categorico', 'TenYearCHD']].train_test_split()"
   ]
  },
  {
   "cell_type": "code",
   "execution_count": 42,
   "id": "ab9a1d1b-ddf5-42f3-881a-73fcf8b1235e",
   "metadata": {
    "tags": []
   },
   "outputs": [
    {
     "name": "stdout",
     "output_type": "stream",
     "text": [
      "Framework: sklearn.ensemble._forest\n",
      "Estimator class: RandomForestClassifier\n",
      "Model Parameters: {'bootstrap': True, 'ccp_alpha': 0.0, 'class_weight': 'balanced_subsample', 'criterion': 'gini', 'max_depth': None, 'max_features': 0.07692307692307693, 'max_leaf_nodes': None, 'max_samples': None, 'min_impurity_decrease': 0.0, 'min_samples_leaf': 0.0001438021282714984, 'min_samples_split': 0.0002876042565429968, 'min_weight_fraction_leaf': 0.0, 'n_estimators': 252, 'n_jobs': 16, 'oob_score': False, 'random_state': 7, 'verbose': 0, 'warm_start': False}\n",
      "\n"
     ]
    }
   ],
   "source": [
    "automl_model1.summary()"
   ]
  },
  {
   "cell_type": "code",
   "execution_count": 43,
   "id": "87f62dab-18f7-450e-a01e-dd87f7d8c620",
   "metadata": {
    "tags": []
   },
   "outputs": [
    {
     "data": {
      "text/plain": [
       "{'bootstrap': True,\n",
       " 'ccp_alpha': 0.0,\n",
       " 'class_weight': 'balanced_subsample',\n",
       " 'criterion': 'gini',\n",
       " 'max_depth': None,\n",
       " 'max_features': 0.07692307692307693,\n",
       " 'max_leaf_nodes': None,\n",
       " 'max_samples': None,\n",
       " 'min_impurity_decrease': 0.0,\n",
       " 'min_samples_leaf': 0.0001438021282714984,\n",
       " 'min_samples_split': 0.0002876042565429968,\n",
       " 'min_weight_fraction_leaf': 0.0,\n",
       " 'n_estimators': 252,\n",
       " 'n_jobs': 16,\n",
       " 'oob_score': False,\n",
       " 'random_state': 7,\n",
       " 'verbose': 0,\n",
       " 'warm_start': False}"
      ]
     },
     "execution_count": 43,
     "metadata": {},
     "output_type": "execute_result"
    }
   ],
   "source": [
    "param_modelo = {'bootstrap': True, 'ccp_alpha': 0.0, 'class_weight': 'balanced_subsample', 'criterion': 'gini', 'max_depth': None, 'max_features': 0.07692307692307693, 'max_leaf_nodes': None, 'max_samples': None, 'min_impurity_decrease': 0.0, 'min_samples_leaf': 0.0001438021282714984, 'min_samples_split': 0.0002876042565429968, 'min_weight_fraction_leaf': 0.0, 'n_estimators': 252, 'n_jobs': 16, 'oob_score': False, 'random_state': 7, 'verbose': 0, 'warm_start': False}\n",
    "param_modelo"
   ]
  },
  {
   "cell_type": "code",
   "execution_count": 44,
   "id": "f2922abe-3414-401b-9c87-f92034f40f0e",
   "metadata": {
    "tags": []
   },
   "outputs": [],
   "source": [
    "best_model = RandomForestClassifier(**param_modelo)"
   ]
  },
  {
   "cell_type": "code",
   "execution_count": 45,
   "id": "0f34aeed-0fd4-4b53-8d51-f31b1cd65344",
   "metadata": {
    "tags": []
   },
   "outputs": [],
   "source": [
    "classificador = DecisionTreeClassifier(max_depth=100)"
   ]
  },
  {
   "cell_type": "code",
   "execution_count": 47,
   "id": "ba431d9c-72a5-4785-b949-6b6da57af60b",
   "metadata": {
    "tags": []
   },
   "outputs": [
    {
     "data": {
      "text/plain": [
       "DecisionTreeClassifier(max_depth=100)"
      ]
     },
     "execution_count": 47,
     "metadata": {},
     "output_type": "execute_result"
    }
   ],
   "source": [
    "best_model.fit(train.X, train.y)\n",
    "classificador.fit(train.X, train.y)"
   ]
  },
  {
   "cell_type": "code",
   "execution_count": 49,
   "id": "3796b42a-f9fe-48e9-874d-f455a1861118",
   "metadata": {
    "tags": []
   },
   "outputs": [],
   "source": [
    "ads_best_model = ADSModel.from_estimator(best_model, name='Modelo AutoML')\n",
    "ads_classificador = ADSModel.from_estimator(classificador, name='Modelo Manual')"
   ]
  },
  {
   "cell_type": "code",
   "execution_count": 52,
   "id": "cb208c3f-79ed-4ca4-996e-bc89acf477ad",
   "metadata": {
    "tags": []
   },
   "outputs": [],
   "source": [
    "evaluator = ADSEvaluator(test_data=test,models=[ads_best_model,ads_classificador],training_data=train)"
   ]
  },
  {
   "cell_type": "code",
   "execution_count": 53,
   "id": "3d39cab3-3442-4d04-aa2f-decb448a0eae",
   "metadata": {
    "tags": []
   },
   "outputs": [
    {
     "data": {
      "image/png": "[encoded data removed]",
      "text/plain": [
       "<Figure size 2592x72 with 1 Axes>"
      ]
     },
     "metadata": {},
     "output_type": "display_data"
    },
    {
     "data": {
      "image/png": "[encoded data removed]",
      "text/plain": [
       "<Figure size 1728x648 with 2 Axes>"
      ]
     },
     "metadata": {},
     "output_type": "display_data"
    },
    {
     "data": {
      "image/png": "[encoded data removed]",
      "text/plain": [
       "<Figure size 2592x72 with 1 Axes>"
      ]
     },
     "metadata": {},
     "output_type": "display_data"
    },
    {
     "data": {
      "image/png": "[encoded data removed]",
      "text/plain": [
       "<Figure size 1728x648 with 2 Axes>"
      ]
     },
     "metadata": {},
     "output_type": "display_data"
    },
    {
     "data": {
      "image/png": "[encoded data removed]",
      "text/plain": [
       "<Figure size 2592x72 with 1 Axes>"
      ]
     },
     "metadata": {},
     "output_type": "display_data"
    },
    {
     "data": {
      "image/png": "[encoded data removed]",
      "text/plain": [
       "<Figure size 1440x576 with 2 Axes>"
      ]
     },
     "metadata": {},
     "output_type": "display_data"
    }
   ],
   "source": [
    "evaluator.show_in_notebook()"
   ]
  },
  {
   "cell_type": "code",
   "execution_count": 54,
   "id": "f2be1424-edde-48b0-b229-d5c89fdb2751",
   "metadata": {
    "tags": []
   },
   "outputs": [
    {
     "name": "stdout",
     "output_type": "stream",
     "text": [
      "WARNING:py.warnings:/home/datascience/conda/generalml_p37_cpu_v1/lib/python3.7/site-packages/ads/evaluations/evaluator.py:577: FutureWarning: this method is deprecated in favour of `Styler.format(precision=..)`\n",
      "  .set_precision(precision)\n",
      "\n"
     ]
    },
    {
     "data": {
      "application/vnd.jupyter.widget-view+json": {
       "model_id": "bb9476a541df4237b0e1e8f59344a70b",
       "version_major": 2,
       "version_minor": 0
      },
      "text/plain": [
       "HTML(value='<style type=\"text/css\">\\n#T_f34d1_row0_col0, #T_f34d1_row1_col1, #T_f34d1_row2_col0, #T_f34d1_row3…"
      ]
     },
     "metadata": {},
     "output_type": "display_data"
    },
    {
     "data": {
      "application/vnd.jupyter.widget-view+json": {
       "model_id": "a7b9ed1529794521a4ac4839392f510c",
       "version_major": 2,
       "version_minor": 0
      },
      "text/plain": [
       "HTML(value='<style type=\"text/css\">\\n#T_ee96a_row0_col0, #T_ee96a_row0_col1, #T_ee96a_row1_col0, #T_ee96a_row1…"
      ]
     },
     "metadata": {},
     "output_type": "display_data"
    },
    {
     "data": {
      "text/plain": []
     },
     "execution_count": 54,
     "metadata": {},
     "output_type": "execute_result"
    }
   ],
   "source": [
    "evaluator.metrics"
   ]
  },
  {
   "cell_type": "code",
   "execution_count": 55,
   "id": "f0223f8f-c6d2-42b4-9bd2-932f756f507d",
   "metadata": {
    "tags": []
   },
   "outputs": [],
   "source": [
    "classificador = DecisionTreeClassifier(max_depth=5).fit(train.X, train.y)"
   ]
  },
  {
   "cell_type": "code",
   "execution_count": 57,
   "id": "aba69ef3-6244-4c22-8161-649986d18628",
   "metadata": {
    "tags": []
   },
   "outputs": [],
   "source": [
    "ads_classificador = ADSModel.from_estimator(classificador, name='Modelo Manual')"
   ]
  },
  {
   "cell_type": "code",
   "execution_count": 58,
   "id": "99c80b23-ea74-4d68-9eb1-0c965ce27867",
   "metadata": {
    "tags": []
   },
   "outputs": [],
   "source": [
    "evaluator = ADSEvaluator(test, models=[ads_best_model, ads_classificador], training_data=train)"
   ]
  },
  {
   "cell_type": "code",
   "execution_count": 59,
   "id": "6b52a297-fbb8-4a45-9a7c-c8ac7ec6b3a8",
   "metadata": {
    "tags": []
   },
   "outputs": [
    {
     "name": "stdout",
     "output_type": "stream",
     "text": [
      "WARNING:py.warnings:/home/datascience/conda/generalml_p37_cpu_v1/lib/python3.7/site-packages/ads/evaluations/evaluator.py:577: FutureWarning: this method is deprecated in favour of `Styler.format(precision=..)`\n",
      "  .set_precision(precision)\n",
      "\n"
     ]
    },
    {
     "data": {
      "application/vnd.jupyter.widget-view+json": {
       "model_id": "c7f21c30ec004ab788e74211b74b7418",
       "version_major": 2,
       "version_minor": 0
      },
      "text/plain": [
       "HTML(value='<style type=\"text/css\">\\n#T_e48df_row0_col0, #T_e48df_row1_col1, #T_e48df_row2_col0, #T_e48df_row3…"
      ]
     },
     "metadata": {},
     "output_type": "display_data"
    },
    {
     "data": {
      "application/vnd.jupyter.widget-view+json": {
       "model_id": "8b7c982bc1b04d138145e9d7ecabd485",
       "version_major": 2,
       "version_minor": 0
      },
      "text/plain": [
       "HTML(value='<style type=\"text/css\">\\n#T_5e8df_row0_col0, #T_5e8df_row1_col1, #T_5e8df_row2_col0, #T_5e8df_row3…"
      ]
     },
     "metadata": {},
     "output_type": "display_data"
    },
    {
     "data": {
      "text/plain": []
     },
     "execution_count": 59,
     "metadata": {},
     "output_type": "execute_result"
    }
   ],
   "source": [
    "evaluator.metrics"
   ]
  },
  {
   "cell_type": "code",
   "execution_count": 61,
   "id": "517d1aa7-6744-4ccf-93e6-b67e657da15e",
   "metadata": {
    "tags": []
   },
   "outputs": [],
   "source": [
    "explainer = ADSExplainer(test, ads_best_model, train)"
   ]
  },
  {
   "cell_type": "code",
   "execution_count": 62,
   "id": "b16b629e-b997-411c-8860-345b1e5e46d3",
   "metadata": {
    "tags": []
   },
   "outputs": [],
   "source": [
    "global_explainer = explainer.global_explanation()"
   ]
  },
  {
   "cell_type": "code",
   "execution_count": 64,
   "id": "4ac28b49-895c-42c8-88a7-3f22d0bcea90",
   "metadata": {
    "tags": []
   },
   "outputs": [
    {
     "data": {
      "application/vnd.jupyter.widget-view+json": {
       "model_id": "",
       "version_major": 2,
       "version_minor": 0
      },
      "text/plain": [
       "MLXProgBar:   0%|          | 0/20 [00:00<?, ?it/s]"
      ]
     },
     "metadata": {},
     "output_type": "display_data"
    },
    {
     "data": {
      "application/vnd.jupyter.widget-view+json": {
       "model_id": "",
       "version_major": 2,
       "version_minor": 0
      },
      "text/plain": [
       "MLXProgBar:   0%|          | 0/3 [00:00<?, ?it/s]"
      ]
     },
     "metadata": {},
     "output_type": "display_data"
    }
   ],
   "source": [
    "importance = global_explainer.compute_feature_importance()"
   ]
  },
  {
   "cell_type": "code",
   "execution_count": 66,
   "id": "c6e262b1-62ef-47d6-845e-1803c56d82ec",
   "metadata": {
    "tags": []
   },
   "outputs": [
    {
     "data": {
      "image/png": "[encoded data removed]",
      "text/plain": [
       "<Figure size 1000x685 with 2 Axes>"
      ]
     },
     "execution_count": 66,
     "metadata": {},
     "output_type": "execute_result"
    }
   ],
   "source": [
    "importance.show_in_notebook('detailed')"
   ]
  },
  {
   "cell_type": "code",
   "execution_count": 67,
   "id": "20a4eb96-fa31-4547-babd-d92c0d48d675",
   "metadata": {
    "tags": []
   },
   "outputs": [
    {
     "data": {
      "application/vnd.jupyter.widget-view+json": {
       "model_id": "",
       "version_major": 2,
       "version_minor": 0
      },
      "text/plain": [
       "MLXProgBar:   0%|          | 0/30 [00:00<?, ?it/s]"
      ]
     },
     "metadata": {},
     "output_type": "display_data"
    }
   ],
   "source": [
    "pdp_idade = global_explainer.compute_partial_dependence('age')"
   ]
  },
  {
   "cell_type": "code",
   "execution_count": 68,
   "id": "ab210c94-5da0-4eba-9fd7-6100bb6504e7",
   "metadata": {
    "tags": []
   },
   "outputs": [
    {
     "data": {
      "application/vnd.jupyter.widget-view+json": {
       "model_id": "",
       "version_major": 2,
       "version_minor": 0
      },
      "text/plain": [
       "MLXProgBar:   0%|          | 0/24 [00:00<?, ?it/s]"
      ]
     },
     "metadata": {},
     "output_type": "display_data"
    }
   ],
   "source": [
    "pdp_pressao = global_explainer.compute_partial_dependence('heartRate')"
   ]
  },
  {
   "cell_type": "code",
   "execution_count": 73,
   "id": "7f5457e6-5f70-4c01-9e71-a8e67e9c48ac",
   "metadata": {
    "tags": []
   },
   "outputs": [
    {
     "data": {
      "text/html": [
       "\n",
       "        <div id='MLX4INB0HZ4JKPKZH00JYIW' class='MLX.LineChart' style='width:100%; height:auto;' align='center'>\n",
       "        <div style='color: #900; text-align: center; width: 650px; margin: 0 auto;'>\n",
       "            <b>Explanation visualization omitted</b>\n",
       "            <hr>\n",
       "        </div>\n",
       "    <div style='color: #900; width: 650px; margin: 0 auto;'>\n",
       "        If this Notebook was pre-run from another source, you must also trust\n",
       "        this Notebook to view the MLX Javascript visualizations. <br>\n",
       "        <ul>\n",
       "            <li><b>JupyterLab:</b> Commands (Ctrl+Shift+C) -> Notebook Operations -> Trust Notebook </li>\n",
       "            <li><b>Jupyter Notebook:</b> File -> Trust Notebook </li>\n",
       "        </ul>\n",
       "        </div>\n",
       "    </div>\n",
       "        <script>\n",
       "            if (window.MLX) {\n",
       "                let elements = document.getElementsByClassName('MLX.LineChart');\n",
       "                if (elements != null) {\n",
       "                    for (var i=0; i<elements.length; ++i) {\n",
       "                        if (elements[i].id == 'MLX4INB0HZ4JKPKZH00JYIW') {\n",
       "                            MLX.ReactDom.render(\n",
       "                                MLX.React.createElement(MLX.LineChart, {\"x_axis_label\": \"heartRate\", \"x_vals\": [44.0, 58.0, 60.0, 62.0, 64.0, 65.0, 66.0, 67.0, 68.0, 70.0, 72.0, 74.86206896551721, 75.0, 76.0, 79.0, 80.0, 82.0, 85.0, 88.0, 90.0, 92.0, 95.0, 100.0, 143.0], \"y_vals\": [[0.6200374631582679, 0.5735953217976234, 0.5710893231267152, 0.564947343590679, 0.5553925895488717, 0.5465397941428584, 0.5455359996347524, 0.5470096688936573, 0.5444960609150435, 0.5478511315040531, 0.5513000502214279, 0.5528479102304561, 0.5528479102304561, 0.5526500682301256, 0.5599518330822214, 0.558571377842709, 0.5627514242087592, 0.5752909291979245, 0.5853707254713924, 0.572118481993839, 0.5723239333018775, 0.5833346015512832, 0.5991632297960185, 0.6022583157051045], [0.37996253684173287, 0.42640467820237576, 0.4289106768732858, 0.43505265640932156, 0.4446074104511288, 0.45346020585713964, 0.45446400036524626, 0.4529903311063425, 0.4555039390849551, 0.4521488684959471, 0.44869994977857197, 0.44715208976954324, 0.44715208976954324, 0.4473499317698753, 0.4400481669177769, 0.441428622157291, 0.4372485757912422, 0.42470907080207493, 0.414629274528608, 0.42788151800616014, 0.42767606669812197, 0.4166653984487164, 0.4008367702039819, 0.39774168429489626]], \"target_names\": [0, 1], \"x_dist\": {\"44.0\": 0.00031959092361776926, \"45.622950819672134\": 0.00015979546180888463, \"47.24590163934426\": 0.0006391818472355385, \"48.868852459016395\": 0.004953659316075424, \"50.49180327868852\": 0.0036752956216043464, \"52.114754098360656\": 0.0014381591562799617, \"53.73770491803279\": 0.00862895493767977, \"55.36065573770492\": 0.007031000319590924, \"56.98360655737705\": 0.019974432726110578, \"58.60655737704918\": 0.05225311601150527, \"60.22950819672131\": 0.0009587727708533077, \"61.85245901639344\": 0.03691275167785235, \"63.47540983606557\": 0.06807286673058485, \"65.09836065573771\": 0.02205177372962608, \"66.72131147540983\": 0.060882070949185046, \"68.34426229508196\": 0.009587727708533078, \"69.9672131147541\": 0.07813998082454458, \"71.59016393442623\": 0.06535634387983381, \"73.21311475409836\": 0.007190795781399808, \"74.8360655737705\": 0.14109939277724512, \"76.45901639344262\": 0.027804410354745925, \"78.08196721311475\": 0.009108341323106424, \"79.70491803278688\": 0.095557686161713, \"81.32786885245902\": 0.01757750079897731, \"82.95081967213115\": 0.01805688718440396, \"84.57377049180329\": 0.056727388942154046, \"86.19672131147541\": 0.007031000319590924, \"87.81967213114754\": 0.013902205177372963, \"89.44262295081967\": 0.05001597954618089, \"91.0655737704918\": 0.016618728028124002, \"92.68852459016394\": 0.007510386705017577, \"94.31147540983606\": 0.02412911473314158, \"95.9344262295082\": 0.009907318632150847, \"97.55737704918033\": 0.0044742729306487695, \"99.18032786885246\": 0.020933205496963887, \"100.80327868852459\": 0.0023969319271332696, \"102.42622950819671\": 0.0023969319271332696, \"104.04918032786885\": 0.003835091083413231, \"105.672131147541\": 0.0019175455417066154, \"107.29508196721312\": 0.0027165228507510385, \"108.91803278688525\": 0.012304250559284116, \"110.54098360655738\": 0.00047938638542665386, \"112.1639344262295\": 0.0, \"113.78688524590164\": 0.001757750079897731, \"115.40983606557377\": 0.0, \"117.0327868852459\": 0.0, \"118.65573770491804\": 0.0022371364653243847, \"120.27868852459017\": 0.0, \"121.90163934426229\": 0.00031959092361776926, \"123.52459016393443\": 0.00047938638542665386, \"125.14754098360656\": 0.0, \"126.77049180327869\": 0.0, \"128.39344262295083\": 0.00015979546180888463, \"130.01639344262296\": 0.0, \"131.63934426229508\": 0.0, \"133.2622950819672\": 0.0, \"134.88524590163934\": 0.0, \"136.5081967213115\": 0.0, \"138.1311475409836\": 0.0, \"139.75409836065575\": 0.00015979546180888463, \"141.37704918032787\": 0.00015979546180888463}, \"mode\": \"classification\", \"title\": \"PDP\", \"highlight_line\": null, \"show_legend\": true, \"unicolor\": false, \"hoverover\": true, \"config\": {\"displayModeBar\": true}, \"legend\": null, \"use_webgl\": false}),\n",
       "                                elements[i]);\n",
       "                        }\n",
       "                    }\n",
       "                }\n",
       "            }\n",
       "        </script>\n",
       "    "
      ],
      "text/plain": [
       "<IPython.core.display.HTML object>"
      ]
     },
     "execution_count": 73,
     "metadata": {},
     "output_type": "execute_result"
    }
   ],
   "source": [
    "pdp_pressao.show_in_notebook()"
   ]
  },
  {
   "cell_type": "code",
   "execution_count": 74,
   "id": "871f1167-14ae-40ed-8ef0-0b63cf09208e",
   "metadata": {},
   "outputs": [],
   "source": [
    "local_explainer = explainer.local_explanation()"
   ]
  },
  {
   "cell_type": "code",
   "execution_count": 75,
   "id": "e4235a33-736a-4069-89f6-1ce44cedb202",
   "metadata": {
    "tags": []
   },
   "outputs": [
    {
     "data": {
      "text/html": [
       "<div>\n",
       "<style scoped>\n",
       "    .dataframe tbody tr th:only-of-type {\n",
       "        vertical-align: middle;\n",
       "    }\n",
       "\n",
       "    .dataframe tbody tr th {\n",
       "        vertical-align: top;\n",
       "    }\n",
       "\n",
       "    .dataframe thead th {\n",
       "        text-align: right;\n",
       "    }\n",
       "</style>\n",
       "<table border=\"1\" class=\"dataframe\">\n",
       "  <thead>\n",
       "    <tr style=\"text-align: right;\">\n",
       "      <th></th>\n",
       "      <th>male</th>\n",
       "      <th>age</th>\n",
       "      <th>education</th>\n",
       "      <th>cigsPerDay</th>\n",
       "      <th>prevalentHyp</th>\n",
       "      <th>diabetes</th>\n",
       "      <th>totChol</th>\n",
       "      <th>sysBP</th>\n",
       "      <th>diaBP</th>\n",
       "      <th>BMI</th>\n",
       "      <th>heartRate</th>\n",
       "      <th>glucose</th>\n",
       "      <th>fumante_categorico</th>\n",
       "    </tr>\n",
       "  </thead>\n",
       "  <tbody>\n",
       "    <tr>\n",
       "      <th>3332</th>\n",
       "      <td>0</td>\n",
       "      <td>62</td>\n",
       "      <td>1.0</td>\n",
       "      <td>0</td>\n",
       "      <td>1</td>\n",
       "      <td>0</td>\n",
       "      <td>312.0</td>\n",
       "      <td>156.0</td>\n",
       "      <td>105.0</td>\n",
       "      <td>22.35</td>\n",
       "      <td>77.0</td>\n",
       "      <td>82.0</td>\n",
       "      <td>0</td>\n",
       "    </tr>\n",
       "  </tbody>\n",
       "</table>\n",
       "</div>"
      ],
      "text/plain": [
       "      male  age  education  cigsPerDay  prevalentHyp  diabetes  totChol  \\\n",
       "3332     0   62        1.0           0             1         0    312.0   \n",
       "\n",
       "      sysBP  diaBP    BMI  heartRate  glucose  fumante_categorico  \n",
       "3332  156.0  105.0  22.35       77.0     82.0                   0  "
      ]
     },
     "execution_count": 75,
     "metadata": {},
     "output_type": "execute_result"
    }
   ],
   "source": [
    "test.X.iloc[[13]]"
   ]
  },
  {
   "cell_type": "code",
   "execution_count": 78,
   "id": "7d21385d-6b51-413b-9764-fa0b312b036b",
   "metadata": {
    "tags": []
   },
   "outputs": [
    {
     "data": {
      "text/plain": [
       "3332    0\n",
       "Name: TenYearCHD, dtype: int64"
      ]
     },
     "execution_count": 78,
     "metadata": {},
     "output_type": "execute_result"
    }
   ],
   "source": [
    "test.y.iloc[[13]]"
   ]
  },
  {
   "cell_type": "code",
   "execution_count": 79,
   "id": "903f6660-49df-4df9-acf6-13b230bd2333",
   "metadata": {
    "tags": []
   },
   "outputs": [
    {
     "data": {
      "application/vnd.jupyter.widget-view+json": {
       "model_id": "",
       "version_major": 2,
       "version_minor": 0
      },
      "text/plain": [
       "MLXProgBar:   0%|          | 0/1 [00:00<?, ?it/s]"
      ]
     },
     "metadata": {},
     "output_type": "display_data"
    }
   ],
   "source": [
    "explanation = local_explainer.explain(test.X.iloc[[13]],test.y.iloc[[13]])"
   ]
  },
  {
   "cell_type": "code",
   "execution_count": 81,
   "id": "0cd4eb06-bca1-4402-b48b-5d0efc542127",
   "metadata": {
    "tags": []
   },
   "outputs": [
    {
     "data": {
      "text/html": [
       "\n",
       "            <div id='MLXLSWJHG38PQ9G9473CMKM' style='margin-top:10px' align='center'>\n",
       "        \n",
       "            <div class=local_model_info-grid>\n",
       "                <div class=local_model_info_title>\n",
       "                    <b><font size='5'>Model</font></b>\n",
       "                </div>\n",
       "        \n",
       "            <div class=local_model_info>\n",
       "            <b><font size='4'>Model Predictions</font></b>\n",
       "            <hr class=hdr_underline>\n",
       "        <div class=div_table>\n",
       "                <div class=div_table_row>\n",
       "                    <div class=info_table_key style=''>Model:</div>\n",
       "                    <div class=info_table_value style=''>ads.common.model.ADSModel</div>\n",
       "                </div>\n",
       "            \n",
       "                <div class=div_table_row>\n",
       "                    <div class=info_table_key style=''>True target value:</div>\n",
       "                    <div class=info_table_value style=''>0</div>\n",
       "                </div>\n",
       "            \n",
       "                <div class=div_table_row>\n",
       "                    <div class=info_table_key style=''>Model prediction:</div>\n",
       "                    <div class=info_table_value style=''>0</div>\n",
       "                </div>\n",
       "            </div></div><div class=local_preds><font size='3'>Prediction Probabilities</font>\n",
       "        <div id='MLXZ81JBK93DB5GM6RY7GGN' class='MLX.PredictProba' None>\n",
       "        <div style='color: #900; text-align: center; width: 650px; margin: 0 auto;'>\n",
       "            <b>Explanation visualization omitted</b>\n",
       "            <hr>\n",
       "        </div>\n",
       "    <div style='color: #900; width: 650px; margin: 0 auto;'>\n",
       "        If this Notebook was pre-run from another source, you must also trust\n",
       "        this Notebook to view the MLX Javascript visualizations. <br>\n",
       "        <ul>\n",
       "            <li><b>JupyterLab:</b> Commands (Ctrl+Shift+C) -> Notebook Operations -> Trust Notebook </li>\n",
       "            <li><b>Jupyter Notebook:</b> File -> Trust Notebook </li>\n",
       "        </ul>\n",
       "        </div>\n",
       "    </div>\n",
       "        <script>\n",
       "            if (window.MLX) {\n",
       "                let elements = document.getElementsByClassName('MLX.PredictProba');\n",
       "                if (elements != null) {\n",
       "                    for (var i=0; i<elements.length; ++i) {\n",
       "                        if (elements[i].id == 'MLXZ81JBK93DB5GM6RY7GGN') {\n",
       "                            MLX.ReactDom.render(\n",
       "                                MLX.React.createElement(MLX.PredictProba, {\"predict_probas\": [0.746031746031746, 0.25396825396825395], \"class_names\": [0, 1], \"label\": null, \"title\": \"\"}),\n",
       "                                elements[i]);\n",
       "                        }\n",
       "                    }\n",
       "                }\n",
       "            }\n",
       "        </script>\n",
       "    </div>\n",
       "                <div class='local_feature_values'>\n",
       "                    <b><font size='5'><i>x<sub>i</sub></i></font><font size='4'> : Instance to Explain</font></b>\n",
       "                    <hr class=hdr_underline>\n",
       "                    <div class=scale_to_width>\n",
       "                    <table class=feature_value_table>\n",
       "                        <thead><tr><th style=\"text-align:center\">Feature</th><th style=\"text-align:center\">Value</th></tr></thead>\n",
       "                        <tbody>\n",
       "            \n",
       "                    <tr><td style=\"text-align:center\">age</td><td style=\"text-align:center\">62.0</td></tr>\n",
       "                \n",
       "                    <tr><td style=\"text-align:center\">diaBP</td><td style=\"text-align:center\">105.0</td></tr>\n",
       "                \n",
       "                    <tr><td style=\"text-align:center\">sysBP</td><td style=\"text-align:center\">156.0</td></tr>\n",
       "                \n",
       "                    <tr><td style=\"text-align:center\">male</td><td style=\"text-align:center\">0.0</td></tr>\n",
       "                \n",
       "                    <tr><td style=\"text-align:center\">cigsPerDay</td><td style=\"text-align:center\">0.0</td></tr>\n",
       "                \n",
       "                    <tr><td style=\"text-align:center\">prevalentHyp</td><td style=\"text-align:center\">1.0</td></tr>\n",
       "                \n",
       "                    <tr><td style=\"text-align:center\">fumante_categorico</td><td style=\"text-align:center\">0.0</td></tr>\n",
       "                \n",
       "                    <tr><td style=\"text-align:center\">education</td><td style=\"text-align:center\">1.0</td></tr>\n",
       "                \n",
       "                    <tr><td style=\"text-align:center\">diabetes</td><td style=\"text-align:center\">0.0</td></tr>\n",
       "                \n",
       "                    <tr><td style=\"text-align:center\">totChol</td><td style=\"text-align:center\">312.0</td></tr>\n",
       "                \n",
       "                    <tr><td style=\"text-align:center\">glucose</td><td style=\"text-align:center\">82.0</td></tr>\n",
       "                \n",
       "                    <tr><td style=\"text-align:center\">BMI</td><td style=\"text-align:center\">22.35</td></tr>\n",
       "                \n",
       "                    <tr><td style=\"text-align:center\">heartRate</td><td style=\"text-align:center\">77.0</td></tr>\n",
       "                </tbody></table></div></div></div><div class=local_exp_model_info-grid>\n",
       "            <div class=local_exp_model_info_title>\n",
       "                <b><font size='5'>Explainer</font></b>\n",
       "            </div>\n",
       "        \n",
       "            <div class=local_exp_model_info>\n",
       "            <b><font size='4'>Surrogate Explainer Configuration</font></b>\n",
       "            <hr class=hdr_underline>\n",
       "        <div class=div_table>\n",
       "                <div class=div_table_row>\n",
       "                    <div class=info_table_key style='width:55%;'>Explanation technique:</div>\n",
       "                    <div class=info_table_value style='width:45%;'>LIME</div>\n",
       "                </div>\n",
       "            \n",
       "                <div class=div_table_row>\n",
       "                    <div class=info_table_key style='width:55%;'>Surrogate model:</div>\n",
       "                    <div class=info_table_value style='width:45%;'>linear</div>\n",
       "                </div>\n",
       "            \n",
       "                <div class=div_table_row>\n",
       "                    <div class=info_table_key style='width:55%;'>Surrogate type:</div>\n",
       "                    <div class=info_table_value style='width:45%;'>regressor</div>\n",
       "                </div>\n",
       "            \n",
       "                <div class=div_table_row>\n",
       "                    <div class=info_table_key style='width:55%;'>Number of synthetic instances near x<sub>i</sub> for training the explainer, N<sub>t</sub>:</div>\n",
       "                    <div class=info_table_value style='width:45%;'>5000</div>\n",
       "                </div>\n",
       "            \n",
       "                <div class=div_table_row>\n",
       "                    <div class=info_table_key style='width:55%;'>Number of synthetic instances near x<sub>i</sub> for testing the explainer, N<sub>v</sub>:</div>\n",
       "                    <div class=info_table_value style='width:45%;'>5000</div>\n",
       "                </div>\n",
       "            \n",
       "                <div class=div_table_row>\n",
       "                    <div class=info_table_key style='width:55%;'>Discretizing:</div>\n",
       "                    <div class=info_table_value style='width:45%;'>decile</div>\n",
       "                </div>\n",
       "            \n",
       "                <div class=div_table_row>\n",
       "                    <div class=info_table_key style='width:55%;'>Scale coefficients:</div>\n",
       "                    <div class=info_table_value style='width:45%;'>Yes</div>\n",
       "                </div>\n",
       "            \n",
       "                <div class=div_table_row>\n",
       "                    <div class=info_table_key style='width:55%;'>Total time (sec):</div>\n",
       "                    <div class=info_table_value style='width:45%;'>1.600</div>\n",
       "                </div>\n",
       "            </div></div>\n",
       "            <div class=local_exp_legend>\n",
       "            <b><font size='4'>Explanation Legend</font></b>\n",
       "            <hr class=hdr_underline>\n",
       "        <div class=div_table>\n",
       "                <div class=div_table_row>\n",
       "                    <div class=info_table_key style='width:25%;'><font color=#FF0000>⇧ P(Target)</font> /<br><font color=#626567>⇩ P(Target)</font>:</div>\n",
       "                    <div class=info_table_value style='width:75%;text-align: left;'>Specific feature value increases/decreases the model output.</div>\n",
       "                </div>\n",
       "            \n",
       "                <div class=div_table_row>\n",
       "                    <div class=info_table_key style='width:25%;'>Coefficients:</div>\n",
       "                    <div class=info_table_value style='width:75%;text-align: left;'>Scaled coefficients from surrogate model (sum to 1).</div>\n",
       "                </div>\n",
       "            \n",
       "                <div class=div_table_row>\n",
       "                    <div class=info_table_key style='width:25%;'>d<sub>ij </sub>:</div>\n",
       "                    <div class=info_table_value style='width:75%;text-align: left;'>Distance (Eucledian) between x<sub>i</sub> and the samples in the dataset passed to fit (Train) and the generated sample spaces (N<sub>t</sub> and N<sub>v_#</sub>).</div>\n",
       "                </div>\n",
       "            \n",
       "                <div class=div_table_row>\n",
       "                    <div class=info_table_key style='width:25%;'>N<sub>v_#</sub>:</div>\n",
       "                    <div class=info_table_value style='width:75%;text-align: left;'>Generated evaluation samples where the size is bound to # percentiles of the distances in Train.</div>\n",
       "                </div>\n",
       "            </div></div></div><div class=local_body-grid_1>\n",
       "                               <div class=local_exp_title>\n",
       "                                   <b><font size='5'>Explanations</font></b>\n",
       "                               </div><div class=local_exps>\n",
       "                <b><font size='4'>Feature Importances</font></b>\n",
       "                <hr class=hdr_underline>\n",
       "            \n",
       "        <div id='MLXXV0WP5KCUW4NXRLE7L7X' class='MLX.Barchart' style='margin-top:10px' align='center'>\n",
       "        <div style='color: #900; text-align: center; width: 650px; margin: 0 auto;'>\n",
       "            <b>Explanation visualization omitted</b>\n",
       "            <hr>\n",
       "        </div>\n",
       "    <div style='color: #900; width: 650px; margin: 0 auto;'>\n",
       "        If this Notebook was pre-run from another source, you must also trust\n",
       "        this Notebook to view the MLX Javascript visualizations. <br>\n",
       "        <ul>\n",
       "            <li><b>JupyterLab:</b> Commands (Ctrl+Shift+C) -> Notebook Operations -> Trust Notebook </li>\n",
       "            <li><b>Jupyter Notebook:</b> File -> Trust Notebook </li>\n",
       "        </ul>\n",
       "        </div>\n",
       "    </div>\n",
       "        <script>\n",
       "            if (window.MLX) {\n",
       "                let elements = document.getElementsByClassName('MLX.Barchart');\n",
       "                if (elements != null) {\n",
       "                    for (var i=0; i<elements.length; ++i) {\n",
       "                        if (elements[i].id == 'MLXXV0WP5KCUW4NXRLE7L7X') {\n",
       "                            MLX.ReactDom.render(\n",
       "                                MLX.React.createElement(MLX.Barchart, {\"exp_array\": [{\"feature\": \"age\", \"attribution\": -0.18042884756994465, \"value\": 62.0, \"lime_feature_str\": \"60.00 < age <= 63.00\", \"inv_coef\": -0.05930065498363598}, {\"feature\": \"diaBP\", \"attribution\": -0.12901081313969054, \"value\": 105.0, \"lime_feature_str\": \"diaBP > 101.50\", \"inv_coef\": -0.042401344475635316}, {\"feature\": \"sysBP\", \"attribution\": -0.11578772883345445, \"value\": 156.0, \"lime_feature_str\": \"155.00 < sysBP <= 171.00\", \"inv_coef\": -0.03805537890070329}, {\"feature\": \"male\", \"attribution\": 0.10122085899476176, \"value\": 0.0, \"lime_feature_str\": \"male <= 0.00\", \"inv_coef\": 0.033267757995676}, {\"feature\": \"cigsPerDay\", \"attribution\": 0.09660166613329527, \"value\": 0.0, \"lime_feature_str\": \"cigsPerDay <= 0.00\", \"inv_coef\": 0.03174959077424812}, {\"feature\": \"prevalentHyp\", \"attribution\": -0.08032747543017688, \"value\": 1.0, \"lime_feature_str\": \"0.00 < prevalentHyp <= 1.00\", \"inv_coef\": -0.02640083318353412}, {\"feature\": \"fumante_categorico\", \"attribution\": 0.07098768872569693, \"value\": 0.0, \"lime_feature_str\": \"fumante_categorico <= 0.00\", \"inv_coef\": 0.023331171782696267}, {\"feature\": \"education\", \"attribution\": -0.06981873509716689, \"value\": 1.0, \"lime_feature_str\": \"education <= 1.00\", \"inv_coef\": -0.022946977587860233}, {\"feature\": \"diabetes\", \"attribution\": 0.05024278076195539, \"value\": 0.0, \"lime_feature_str\": \"diabetes <= 0.00\", \"inv_coef\": 0.016513045710321795}, {\"feature\": \"totChol\", \"attribution\": -0.04921265813118481, \"value\": 312.0, \"lime_feature_str\": \"totChol > 297.00\", \"inv_coef\": -0.01617448041136382}, {\"feature\": \"glucose\", \"attribution\": 0.03257479620423106, \"value\": 82.0, \"lime_feature_str\": \"80.00 < glucose <= 84.00\", \"inv_coef\": 0.010706196802152271}, {\"feature\": \"BMI\", \"attribution\": 0.017530337848878554, \"value\": 22.35, \"lime_feature_str\": \"21.10 < BMI <= 22.71\", \"inv_coef\": 0.0057616092466584575}, {\"feature\": \"heartRate\", \"attribution\": -0.006255613129562728, \"value\": 77.0, \"lime_feature_str\": \"75.00 < heartRate <= 77.00\", \"inv_coef\": -0.0020560013595580734}], \"titles\": [\"\\u21e9 P(0)\", \"\\u21e7 P(0)\"], \"show_numbers\": true, \"show_confidence\": false, \"two_sided\": true}),\n",
       "                                elements[i]);\n",
       "                        }\n",
       "                    }\n",
       "                }\n",
       "            }\n",
       "        </script>\n",
       "    </div>\n",
       "                <div class=local_exp_qual_title>\n",
       "                    <b><font size='4'>Explanation Quality</font></b>\n",
       "                    <hr class=hdr_underline>\n",
       "                </div>\n",
       "                <div class=local_exp_dist>\n",
       "                    <font size='3'>Sample Distance Distributions</font>\n",
       "                    <hr class=hdr_underline>\n",
       "                    \n",
       "        <div id='MLXUCVP9I4U6IM95F1YCM9B' class='MLX.LocalFidelityAnalysis' style='width:100%' align='center'>\n",
       "        <div style='color: #900; text-align: center; width: 650px; margin: 0 auto;'>\n",
       "            <b>Explanation visualization omitted</b>\n",
       "            <hr>\n",
       "        </div>\n",
       "    <div style='color: #900; width: 650px; margin: 0 auto;'>\n",
       "        If this Notebook was pre-run from another source, you must also trust\n",
       "        this Notebook to view the MLX Javascript visualizations. <br>\n",
       "        <ul>\n",
       "            <li><b>JupyterLab:</b> Commands (Ctrl+Shift+C) -> Notebook Operations -> Trust Notebook </li>\n",
       "            <li><b>Jupyter Notebook:</b> File -> Trust Notebook </li>\n",
       "        </ul>\n",
       "        </div>\n",
       "    </div>\n",
       "        <script>\n",
       "            if (window.MLX) {\n",
       "                let elements = document.getElementsByClassName('MLX.LocalFidelityAnalysis');\n",
       "                if (elements != null) {\n",
       "                    for (var i=0; i<elements.length; ++i) {\n",
       "                        if (elements[i].id == 'MLXUCVP9I4U6IM95F1YCM9B') {\n",
       "                            MLX.ReactDom.render(\n",
       "                                MLX.React.createElement(MLX.LocalFidelityAnalysis, {\"data\": [{\"x\": [14.840758066891228, 19.891034136068654, 24.94131020524608, 29.991586274423504, 35.04186234360093, 40.092138412778354, 45.14241448195578, 50.192690551133204, 55.24296662031063, 60.29324268948806, 65.34351875866548, 70.39379482784291, 75.44407089702034, 80.49434696619777, 85.54462303537518, 90.59489910455261, 95.64517517373004, 100.69545124290747, 105.7457273120849, 110.79600338126231, 115.84627945043974, 120.89655551961717, 125.9468315887946, 130.99710765797204, 136.04738372714945], \"y\": [10, 17, 36, 101, 173, 119, 166, 257, 316, 287, 280, 284, 309, 340, 360, 278, 323, 313, 321, 292, 268, 248, 195, 183, 156]}, {\"x\": [0.0, 5.594412239909348, 11.188824479818695, 16.783236719728045, 22.37764895963739, 27.972061199546737, 33.56647343945609, 39.160885679365435, 44.75529791927478, 50.34971015918413, 55.94412239909347, 61.538534639002826, 67.13294687891218, 72.72735911882152, 78.32177135873087, 83.91618359864022, 89.51059583854956, 95.10500807845891, 100.69942031836825, 106.2938325582776, 111.88824479818695, 117.4826570380963, 123.07706927800565, 128.671481517915, 134.26589375782436, 139.8603059977337, 145.45471823764305, 151.04913047755238, 156.64354271746174, 162.23795495737107, 167.83236719728043, 173.42677943718977, 179.02119167709913, 184.61560391700849, 190.21001615691782, 195.80442839682718, 201.3988406367365, 206.99325287664587, 212.5876651165552, 218.18207735646456, 223.7764895963739, 229.37090183628325, 234.9653140761926, 240.55972631610194, 246.1541385560113, 251.74855079592064, 257.34296303583, 262.9373752757393, 268.5317875156487], \"y\": [1, 0, 0, 1, 5, 33, 71, 108, 162, 221, 241, 283, 284, 311, 311, 304, 281, 306, 289, 274, 244, 212, 200, 181, 125, 104, 92, 82, 93, 51, 40, 26, 13, 7, 9, 6, 5, 2, 5, 3, 5, 2, 3, 1, 0, 0, 2, 0, 1]}, {\"x\": [6.546245394458394, 8.43064030235009, 10.315035210241787, 12.199430118133483, 14.08382502602518, 15.968219933916876, 17.852614841808574, 19.73700974970027, 21.621404657591967, 23.505799565483663, 25.39019447337536, 27.274589381267056, 29.158984289158752], \"y\": [1, 2, 3, 7, 17, 13, 25, 29, 33, 34, 22, 10, 4]}, {\"x\": [10.996988228021788, 13.421520428835507, 15.846052629649224, 18.27058483046294, 20.69511703127666, 23.119649232090378, 25.544181432904097, 27.96871363371781, 30.39324583453153, 32.81777803534525], \"y\": [2, 4, 13, 20, 24, 44, 31, 34, 19, 9]}, {\"x\": [15.827040087469712, 19.395676342125448, 22.96431259678118, 26.532948851436913, 30.10158510609265, 33.670221360748386, 37.238857615404115, 40.80749387005985, 44.37613012471559, 47.94476637937132, 51.51340263402706], \"y\": [3, 11, 18, 22, 30, 33, 39, 22, 19, 2, 1]}], \"names\": [\"Train\", \"N<sub>t</sub>\", \"N<sub>v_2</sub>\", \"N<sub>v_4</sub>\", \"N<sub>v_16</sub>\"], \"yaxis\": [\"y1\", \"y2\", \"y3\", \"y4\", \"y5\"], \"n_groups\": 5, \"autosize\": true, \"margin\": {\"t\": 10, \"b\": 40, \"l\": 50, \"r\": 10}, \"color\": \"rgb(35, 75, 120)\", \"color_fade_rate\": 0.05}),\n",
       "                                elements[i]);\n",
       "                        }\n",
       "                    }\n",
       "                }\n",
       "            }\n",
       "        </script>\n",
       "    \n",
       "                </div>\n",
       "                \n",
       "            <div class=local_exp_info>\n",
       "                <font size='3'>Evaluation Metrics</font>\n",
       "                <hr class=hdr_underline>\n",
       "                <div style='align:center; width:100%; padding: 10px 10px; overflow-x: auto;'><table style='table-layout: fixed; display: inline-block; margin: 10px auto;'><thead><tr style='width: 100%; background-color:#E0E0E0;'>\n",
       "                    <th style='border-collapse: collapse; padding: 10px;\n",
       "                    border: solid 1px; text-align: center; word-wrap: break-word;\n",
       "                    width:120px; min-width:120px; max_width:120px;'>Sample Space</th>\n",
       "                    \n",
       "                    <th style='border-collapse: collapse; padding: 10px;\n",
       "                    border: solid 1px; text-align: center; word-wrap: break-word;\n",
       "                    width:120px; min-width:120px; max_width:120px;'>root_mean_squared_error</th>\n",
       "                    \n",
       "                    <th style='border-collapse: collapse; padding: 10px;\n",
       "                    border: solid 1px; text-align: center; word-wrap: break-word;\n",
       "                    width:120px; min-width:120px; max_width:120px;'>pearson Analysis</th>\n",
       "                    </tr></thead><tbody><tr>\n",
       "                    <td style='border-collapse: collapse; padding: 10px;\n",
       "                    border: solid 1px; text-align: left; word-wrap: break-word;\n",
       "                    width:120px; min-width:120px; max_width:120px;'>N<sub>t</sub></td>\n",
       "                    \n",
       "                    <td style='border-collapse: collapse; padding: 10px;\n",
       "                    border: solid 1px; text-align: left; word-wrap: break-word;\n",
       "                    width:120px; min-width:120px; max_width:120px;'>0.088</td>\n",
       "                    \n",
       "                    <td style='border-collapse: collapse; padding: 10px;\n",
       "                    border: solid 1px; text-align: left; word-wrap: break-word;\n",
       "                    width:120px; min-width:120px; max_width:120px;'>Corr=0.414<br>p=6.3243e-206</td>\n",
       "                    </tr><tr>\n",
       "                    <td style='border-collapse: collapse; padding: 10px;\n",
       "                    border: solid 1px; text-align: left; word-wrap: break-word;\n",
       "                    width:120px; min-width:120px; max_width:120px;'>N<sub>v_2</sub></td>\n",
       "                    \n",
       "                    <td style='border-collapse: collapse; padding: 10px;\n",
       "                    border: solid 1px; text-align: left; word-wrap: break-word;\n",
       "                    width:120px; min-width:120px; max_width:120px;'>0.116</td>\n",
       "                    \n",
       "                    <td style='border-collapse: collapse; padding: 10px;\n",
       "                    border: solid 1px; text-align: left; word-wrap: break-word;\n",
       "                    width:120px; min-width:120px; max_width:120px;'>Corr=0.304<br>p=1.2492e-05</td>\n",
       "                    </tr><tr>\n",
       "                    <td style='border-collapse: collapse; padding: 10px;\n",
       "                    border: solid 1px; text-align: left; word-wrap: break-word;\n",
       "                    width:120px; min-width:120px; max_width:120px;'>N<sub>v_4</sub></td>\n",
       "                    \n",
       "                    <td style='border-collapse: collapse; padding: 10px;\n",
       "                    border: solid 1px; text-align: left; word-wrap: break-word;\n",
       "                    width:120px; min-width:120px; max_width:120px;'>0.115</td>\n",
       "                    \n",
       "                    <td style='border-collapse: collapse; padding: 10px;\n",
       "                    border: solid 1px; text-align: left; word-wrap: break-word;\n",
       "                    width:120px; min-width:120px; max_width:120px;'>Corr=0.410<br>p=1.6980e-09</td>\n",
       "                    </tr><tr>\n",
       "                    <td style='border-collapse: collapse; padding: 10px;\n",
       "                    border: solid 1px; text-align: left; word-wrap: break-word;\n",
       "                    width:120px; min-width:120px; max_width:120px;'>N<sub>v_16</sub></td>\n",
       "                    \n",
       "                    <td style='border-collapse: collapse; padding: 10px;\n",
       "                    border: solid 1px; text-align: left; word-wrap: break-word;\n",
       "                    width:120px; min-width:120px; max_width:120px;'>0.113</td>\n",
       "                    \n",
       "                    <td style='border-collapse: collapse; padding: 10px;\n",
       "                    border: solid 1px; text-align: left; word-wrap: break-word;\n",
       "                    width:120px; min-width:120px; max_width:120px;'>Corr=0.429<br>p=2.4130e-10</td>\n",
       "                    </tr></tbody></table></div>\n",
       "        <p style='text-align:center'><font size='3'>Performance</font></p><hr class=hdr_underline><div class=div_table>\n",
       "                <div class=div_table_row>\n",
       "                    <div class=info_table_key style='width:70%;'>Explanation time (sec):</div>\n",
       "                    <div class=info_table_value style='width:30%;'>0.625</div>\n",
       "                </div>\n",
       "            </div></div></div></div>"
      ],
      "text/plain": [
       "<IPython.core.display.HTML object>"
      ]
     },
     "execution_count": 81,
     "metadata": {},
     "output_type": "execute_result"
    }
   ],
   "source": [
    "explanation.show_in_notebook()"
   ]
  },
  {
   "cell_type": "code",
   "execution_count": 82,
   "id": "1d5cc5ce-c146-4f8c-8030-c0336b5d5726",
   "metadata": {
    "tags": []
   },
   "outputs": [],
   "source": [
    "best_model = RandomForestClassifier(**param_modelo)"
   ]
  },
  {
   "cell_type": "code",
   "execution_count": 84,
   "id": "d5db2b23-c321-42bc-822f-6f99ff850862",
   "metadata": {
    "tags": []
   },
   "outputs": [
    {
     "data": {
      "text/plain": [
       "Index(['male', 'age', 'education', 'cigsPerDay', 'prevalentHyp', 'diabetes',\n",
       "       'totChol', 'sysBP', 'diaBP', 'BMI', 'heartRate', 'glucose',\n",
       "       'fumante_categorico'],\n",
       "      dtype='object')"
      ]
     },
     "execution_count": 84,
     "metadata": {},
     "output_type": "execute_result"
    }
   ],
   "source": [
    "automl_model1.feature_names()"
   ]
  },
  {
   "cell_type": "code",
   "execution_count": 85,
   "id": "7ad06aad-e285-4f4b-8ba2-3db4c712cbea",
   "metadata": {
    "tags": []
   },
   "outputs": [
    {
     "data": {
      "text/plain": [
       "RandomForestClassifier(class_weight='balanced_subsample',\n",
       "                       max_features=0.07692307692307693,\n",
       "                       min_samples_leaf=0.0001438021282714984,\n",
       "                       min_samples_split=0.0002876042565429968,\n",
       "                       n_estimators=252, n_jobs=16, random_state=7)"
      ]
     },
     "execution_count": 85,
     "metadata": {},
     "output_type": "execute_result"
    }
   ],
   "source": [
    "best_model.fit(ds_tratado[['male', 'age', 'education', 'cigsPerDay', 'prevalentHyp', 'diabetes',\n",
    "       'totChol', 'sysBP', 'diaBP', 'BMI', 'heartRate', 'glucose',\n",
    "       'fumante_categorico']], ds_tratado['TenYearCHD'])"
   ]
  },
  {
   "cell_type": "code",
   "execution_count": 86,
   "id": "1549f4f4-7dd0-4900-abec-20198ec08bfb",
   "metadata": {
    "tags": []
   },
   "outputs": [],
   "source": [
    "ads_best_model = ADSModel.from_estimator(best_model, name='Modelo AutoML')"
   ]
  },
  {
   "cell_type": "code",
   "execution_count": 97,
   "id": "6fe5b2c5-5a74-41ea-a8e1-a695ed4c6f95",
   "metadata": {
    "tags": []
   },
   "outputs": [],
   "source": [
    "path_artifact = 'modelo/'"
   ]
  },
  {
   "cell_type": "code",
   "execution_count": 100,
   "id": "0ae12801-7c28-47e7-9ac7-5750c2518986",
   "metadata": {
    "tags": []
   },
   "outputs": [
    {
     "data": {
      "application/vnd.jupyter.widget-view+json": {
       "model_id": "",
       "version_major": 2,
       "version_minor": 0
      },
      "text/plain": [
       "loop1:   0%|          | 0/5 [00:00<?, ?it/s]"
      ]
     },
     "metadata": {},
     "output_type": "display_data"
    }
   ],
   "source": [
    "artifact_model = ads_best_model.prepare(path_artifact, data_sample=test, data_science_env=True, force_overwrite=True)"
   ]
  },
  {
   "cell_type": "code",
   "execution_count": 101,
   "id": "7ac4708a-f3c0-40cd-a45a-a422f41921ce",
   "metadata": {
    "tags": []
   },
   "outputs": [
    {
     "name": "stdout",
     "output_type": "stream",
     "text": [
      "ERROR:ads:ADS Exception\n",
      "Traceback (most recent call last):\n",
      "  File \"/home/datascience/conda/generalml_p37_cpu_v1/lib/python3.7/site-packages/IPython/core/interactiveshell.py\", line 3457, in run_code\n",
      "    exec(code_obj, self.user_global_ns, self.user_ns)\n",
      "  File \"<ipython-input-101-28bfcdacee82>\", line 1, in <module>\n",
      "    artifact_model.save(display_name='Modelo de Classificação DAC')\n",
      "  File \"/home/datascience/conda/generalml_p37_cpu_v1/lib/python3.7/site-packages/ads/common/model_artifact.py\", line 779, in save\n",
      "    ns, training_script_path, ignore_pending_changes\n",
      "  File \"/home/datascience/conda/generalml_p37_cpu_v1/lib/python3.7/site-packages/ads/common/model_artifact.py\", line 915, in _training_code_info\n",
      "    self._assert_path_not_dirty(self.artifact_dir, repo, ignore_pending_changes)\n",
      "  File \"/home/datascience/conda/generalml_p37_cpu_v1/lib/python3.7/site-packages/ads/common/model_artifact.py\", line 931, in _assert_path_not_dirty\n",
      "    raise ChangesNotCommitted(path_abs)\n",
      "ads.common.model_artifact.ChangesNotCommitted: \n",
      "            File(s) at /home/datascience/machine-learning-analise-dados-oracle-cloud/modelo are either dirty or untracked.\n",
      "            Commit changes and then save the model, or set `ignore_pending_changes=True`.\n",
      "        \n"
     ]
    },
    {
     "name": "stderr",
     "output_type": "stream",
     "text": [
      "ChangesNotCommitted: \n",
      "            File(s) at /home/datascience/machine-learning-analise-dados-oracle-cloud/modelo are either dirty or untracked.\n",
      "            Commit changes and then save the model, or set `ignore_pending_changes=True`.\n",
      "        "
     ]
    }
   ],
   "source": [
    "artifact_model.save(display_name='Modelo de Classificação DAC')"
   ]
  },
  {
   "cell_type": "code",
   "execution_count": null,
   "id": "1d4027d5-cded-45ea-97ea-1046332b5890",
   "metadata": {},
   "outputs": [],
   "source": []
  }
 ],
 "metadata": {
  "kernelspec": {
   "display_name": "Python [conda env:generalml_p37_cpu_v1]",
   "language": "python",
   "name": "conda-env-generalml_p37_cpu_v1-py"
  },
  "language_info": {
   "codemirror_mode": {
    "name": "ipython",
    "version": 3
   },
   "file_extension": ".py",
   "mimetype": "text/x-python",
   "name": "python",
   "nbconvert_exporter": "python",
   "pygments_lexer": "ipython3",
   "version": "3.7.12"
  }
 },
 "nbformat": 4,
 "nbformat_minor": 5
}
